{
 "cells": [
  {
   "cell_type": "code",
   "execution_count": null,
   "metadata": {},
   "outputs": [],
   "source": [
    "y=data.loan_status.astype('category').cat.codes\n",
    "s=[[]]\n",
    "for i in data.columns:\n",
    "    about=desc[desc['LoanStatNew']==i]['Description'].iloc[0]\n",
    "    if data[i].describe().dtype==object:\n",
    "        data[i]=data[i].astype('category').cat.codes\n",
    "    res=pd.concat([data[i],y],axis=1)\n",
    "    s.append([i,res.corr().min()[0],about])\n",
    "\n",
    "    \n",
    "corel=pd.DataFrame(s)\n",
    "corel=corel.dropna()\n",
    "corel.columns=['variable','correlation with loan_status','description']\n",
    "corel.sort_values(by='correlation with loan_status')\n",
    "corel.style.background_gradient()\n",
    "\n",
    "plt.figure(figsize=(15,15))\n",
    "sns.heatmap(data.corr())\n",
    "plt.show()\n",
    "\n",
    "loan.head()\n",
    "\n",
    "y=data.loan_status\n",
    "x=data.drop(['loan_status','emp_length'],axis=1)\n",
    "\n",
    "\n",
    "import statsmodels.api as sm\n",
    "model = sm.OLS(y, x)\n",
    "results = model.fit()\n",
    "print(results.summary())"
   ]
  },
  {
   "cell_type": "markdown",
   "metadata": {},
   "source": [
    "univariate"
   ]
  },
  {
   "cell_type": "code",
   "execution_count": null,
   "metadata": {},
   "outputs": [],
   "source": [
    "\n",
    "count=0\n",
    "for i in data.columns:\n",
    "    print(\"*********************************************************************\")\n",
    "    \n",
    "    print(count)\n",
    "    count+=1\n",
    "    if data[i].describe().dtype==object:\n",
    "        print(str.upper(i))\n",
    "        print(desc[desc['LoanStatNew']==i]['Description'].iloc[0])\n",
    "        print(data[i].describe())\n",
    "        print(\"UNIQUE VALUES :\",data[i].unique().tolist())\n",
    "        data[i].value_counts().plot(kind='bar')\n",
    "        plt.xlabel(i)\n",
    "        plt.show()\n",
    "        continue\n",
    "    if data[i].describe().dtype==float:\n",
    "        print(i)\n",
    "        print(desc[desc['LoanStatNew']==i]['Description'].iloc[0])\n",
    "        print(data[i].describe())\n",
    "        print(\"Data type :\",data[i].describe().dtype)\n",
    "        plt.hist(data[i],color='green',rwidth=5)\n",
    "        plt.xlabel(i)\n",
    "        plt.show()\n",
    "        continue\n",
    "    else:\n",
    "        print(i)\n",
    "        print(desc[desc['LoanStatNew']==i]['Description'].iloc[0])\n",
    "        print(\"Data type :\",data[i].describe().dtype)\n",
    "    "
   ]
  }
 ],
 "metadata": {
  "kernelspec": {
   "display_name": "Python 3",
   "language": "python",
   "name": "python3"
  },
  "language_info": {
   "codemirror_mode": {
    "name": "ipython",
    "version": 3
   },
   "file_extension": ".py",
   "mimetype": "text/x-python",
   "name": "python",
   "nbconvert_exporter": "python",
   "pygments_lexer": "ipython3",
   "version": "3.7.4"
  }
 },
 "nbformat": 4,
 "nbformat_minor": 2
}
