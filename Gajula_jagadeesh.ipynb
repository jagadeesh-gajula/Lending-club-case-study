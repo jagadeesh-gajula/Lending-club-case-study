{
 "cells": [
  {
   "cell_type": "markdown",
   "metadata": {},
   "source": [
    "# Lending club case study"
   ]
  },
  {
   "cell_type": "markdown",
   "metadata": {},
   "source": [
    "### problem staetement will be documented here\n"
   ]
  },
  {
   "cell_type": "code",
   "execution_count": 1,
   "metadata": {},
   "outputs": [
    {
     "name": "stderr",
     "output_type": "stream",
     "text": [
      "C:\\ProgramData\\Anaconda3\\lib\\site-packages\\IPython\\core\\interactiveshell.py:3058: DtypeWarning: Columns (47) have mixed types. Specify dtype option on import or set low_memory=False.\n",
      "  interactivity=interactivity, compiler=compiler, result=result)\n"
     ]
    }
   ],
   "source": [
    "#importing libraries and data\n",
    "import seaborn as sns\n",
    "import matplotlib.pyplot as plt\n",
    "import pandas as pd\n",
    "data=pd.read_csv('loan.csv')\n",
    "desc=pd.read_excel('Data_Dictionary.xlsx')"
   ]
  },
  {
   "cell_type": "markdown",
   "metadata": {},
   "source": [
    "## Data Understanding"
   ]
  },
  {
   "cell_type": "code",
   "execution_count": 2,
   "metadata": {},
   "outputs": [
    {
     "name": "stdout",
     "output_type": "stream",
     "text": [
      "(39717, 111)\n"
     ]
    },
    {
     "data": {
      "text/html": [
       "<div>\n",
       "<style scoped>\n",
       "    .dataframe tbody tr th:only-of-type {\n",
       "        vertical-align: middle;\n",
       "    }\n",
       "\n",
       "    .dataframe tbody tr th {\n",
       "        vertical-align: top;\n",
       "    }\n",
       "\n",
       "    .dataframe thead th {\n",
       "        text-align: right;\n",
       "    }\n",
       "</style>\n",
       "<table border=\"1\" class=\"dataframe\">\n",
       "  <thead>\n",
       "    <tr style=\"text-align: right;\">\n",
       "      <th></th>\n",
       "      <th>id</th>\n",
       "      <th>member_id</th>\n",
       "      <th>loan_amnt</th>\n",
       "      <th>funded_amnt</th>\n",
       "      <th>funded_amnt_inv</th>\n",
       "      <th>term</th>\n",
       "      <th>int_rate</th>\n",
       "      <th>installment</th>\n",
       "      <th>grade</th>\n",
       "      <th>sub_grade</th>\n",
       "      <th>...</th>\n",
       "      <th>num_tl_90g_dpd_24m</th>\n",
       "      <th>num_tl_op_past_12m</th>\n",
       "      <th>pct_tl_nvr_dlq</th>\n",
       "      <th>percent_bc_gt_75</th>\n",
       "      <th>pub_rec_bankruptcies</th>\n",
       "      <th>tax_liens</th>\n",
       "      <th>tot_hi_cred_lim</th>\n",
       "      <th>total_bal_ex_mort</th>\n",
       "      <th>total_bc_limit</th>\n",
       "      <th>total_il_high_credit_limit</th>\n",
       "    </tr>\n",
       "  </thead>\n",
       "  <tbody>\n",
       "    <tr>\n",
       "      <td>0</td>\n",
       "      <td>1077501</td>\n",
       "      <td>1296599</td>\n",
       "      <td>5000</td>\n",
       "      <td>5000</td>\n",
       "      <td>4975.0</td>\n",
       "      <td>36 months</td>\n",
       "      <td>10.65%</td>\n",
       "      <td>162.87</td>\n",
       "      <td>B</td>\n",
       "      <td>B2</td>\n",
       "      <td>...</td>\n",
       "      <td>NaN</td>\n",
       "      <td>NaN</td>\n",
       "      <td>NaN</td>\n",
       "      <td>NaN</td>\n",
       "      <td>0.0</td>\n",
       "      <td>0.0</td>\n",
       "      <td>NaN</td>\n",
       "      <td>NaN</td>\n",
       "      <td>NaN</td>\n",
       "      <td>NaN</td>\n",
       "    </tr>\n",
       "    <tr>\n",
       "      <td>1</td>\n",
       "      <td>1077430</td>\n",
       "      <td>1314167</td>\n",
       "      <td>2500</td>\n",
       "      <td>2500</td>\n",
       "      <td>2500.0</td>\n",
       "      <td>60 months</td>\n",
       "      <td>15.27%</td>\n",
       "      <td>59.83</td>\n",
       "      <td>C</td>\n",
       "      <td>C4</td>\n",
       "      <td>...</td>\n",
       "      <td>NaN</td>\n",
       "      <td>NaN</td>\n",
       "      <td>NaN</td>\n",
       "      <td>NaN</td>\n",
       "      <td>0.0</td>\n",
       "      <td>0.0</td>\n",
       "      <td>NaN</td>\n",
       "      <td>NaN</td>\n",
       "      <td>NaN</td>\n",
       "      <td>NaN</td>\n",
       "    </tr>\n",
       "    <tr>\n",
       "      <td>2</td>\n",
       "      <td>1077175</td>\n",
       "      <td>1313524</td>\n",
       "      <td>2400</td>\n",
       "      <td>2400</td>\n",
       "      <td>2400.0</td>\n",
       "      <td>36 months</td>\n",
       "      <td>15.96%</td>\n",
       "      <td>84.33</td>\n",
       "      <td>C</td>\n",
       "      <td>C5</td>\n",
       "      <td>...</td>\n",
       "      <td>NaN</td>\n",
       "      <td>NaN</td>\n",
       "      <td>NaN</td>\n",
       "      <td>NaN</td>\n",
       "      <td>0.0</td>\n",
       "      <td>0.0</td>\n",
       "      <td>NaN</td>\n",
       "      <td>NaN</td>\n",
       "      <td>NaN</td>\n",
       "      <td>NaN</td>\n",
       "    </tr>\n",
       "    <tr>\n",
       "      <td>3</td>\n",
       "      <td>1076863</td>\n",
       "      <td>1277178</td>\n",
       "      <td>10000</td>\n",
       "      <td>10000</td>\n",
       "      <td>10000.0</td>\n",
       "      <td>36 months</td>\n",
       "      <td>13.49%</td>\n",
       "      <td>339.31</td>\n",
       "      <td>C</td>\n",
       "      <td>C1</td>\n",
       "      <td>...</td>\n",
       "      <td>NaN</td>\n",
       "      <td>NaN</td>\n",
       "      <td>NaN</td>\n",
       "      <td>NaN</td>\n",
       "      <td>0.0</td>\n",
       "      <td>0.0</td>\n",
       "      <td>NaN</td>\n",
       "      <td>NaN</td>\n",
       "      <td>NaN</td>\n",
       "      <td>NaN</td>\n",
       "    </tr>\n",
       "    <tr>\n",
       "      <td>4</td>\n",
       "      <td>1075358</td>\n",
       "      <td>1311748</td>\n",
       "      <td>3000</td>\n",
       "      <td>3000</td>\n",
       "      <td>3000.0</td>\n",
       "      <td>60 months</td>\n",
       "      <td>12.69%</td>\n",
       "      <td>67.79</td>\n",
       "      <td>B</td>\n",
       "      <td>B5</td>\n",
       "      <td>...</td>\n",
       "      <td>NaN</td>\n",
       "      <td>NaN</td>\n",
       "      <td>NaN</td>\n",
       "      <td>NaN</td>\n",
       "      <td>0.0</td>\n",
       "      <td>0.0</td>\n",
       "      <td>NaN</td>\n",
       "      <td>NaN</td>\n",
       "      <td>NaN</td>\n",
       "      <td>NaN</td>\n",
       "    </tr>\n",
       "  </tbody>\n",
       "</table>\n",
       "<p>5 rows × 111 columns</p>\n",
       "</div>"
      ],
      "text/plain": [
       "        id  member_id  loan_amnt  funded_amnt  funded_amnt_inv        term  \\\n",
       "0  1077501    1296599       5000         5000           4975.0   36 months   \n",
       "1  1077430    1314167       2500         2500           2500.0   60 months   \n",
       "2  1077175    1313524       2400         2400           2400.0   36 months   \n",
       "3  1076863    1277178      10000        10000          10000.0   36 months   \n",
       "4  1075358    1311748       3000         3000           3000.0   60 months   \n",
       "\n",
       "  int_rate  installment grade sub_grade  ... num_tl_90g_dpd_24m  \\\n",
       "0   10.65%       162.87     B        B2  ...                NaN   \n",
       "1   15.27%        59.83     C        C4  ...                NaN   \n",
       "2   15.96%        84.33     C        C5  ...                NaN   \n",
       "3   13.49%       339.31     C        C1  ...                NaN   \n",
       "4   12.69%        67.79     B        B5  ...                NaN   \n",
       "\n",
       "  num_tl_op_past_12m pct_tl_nvr_dlq  percent_bc_gt_75 pub_rec_bankruptcies  \\\n",
       "0                NaN            NaN               NaN                  0.0   \n",
       "1                NaN            NaN               NaN                  0.0   \n",
       "2                NaN            NaN               NaN                  0.0   \n",
       "3                NaN            NaN               NaN                  0.0   \n",
       "4                NaN            NaN               NaN                  0.0   \n",
       "\n",
       "  tax_liens tot_hi_cred_lim total_bal_ex_mort total_bc_limit  \\\n",
       "0       0.0             NaN               NaN            NaN   \n",
       "1       0.0             NaN               NaN            NaN   \n",
       "2       0.0             NaN               NaN            NaN   \n",
       "3       0.0             NaN               NaN            NaN   \n",
       "4       0.0             NaN               NaN            NaN   \n",
       "\n",
       "  total_il_high_credit_limit  \n",
       "0                        NaN  \n",
       "1                        NaN  \n",
       "2                        NaN  \n",
       "3                        NaN  \n",
       "4                        NaN  \n",
       "\n",
       "[5 rows x 111 columns]"
      ]
     },
     "execution_count": 2,
     "metadata": {},
     "output_type": "execute_result"
    }
   ],
   "source": [
    "#glace at data\n",
    "\n",
    "print(data.shape)\n",
    "data.head()"
   ]
  },
  {
   "cell_type": "code",
   "execution_count": 3,
   "metadata": {},
   "outputs": [
    {
     "name": "stdout",
     "output_type": "stream",
     "text": [
      "Index(['id', 'member_id', 'loan_amnt', 'funded_amnt', 'funded_amnt_inv',\n",
      "       'term', 'int_rate', 'installment', 'grade', 'sub_grade',\n",
      "       ...\n",
      "       'num_tl_90g_dpd_24m', 'num_tl_op_past_12m', 'pct_tl_nvr_dlq',\n",
      "       'percent_bc_gt_75', 'pub_rec_bankruptcies', 'tax_liens',\n",
      "       'tot_hi_cred_lim', 'total_bal_ex_mort', 'total_bc_limit',\n",
      "       'total_il_high_credit_limit'],\n",
      "      dtype='object', length=111)\n",
      "<class 'pandas.core.frame.DataFrame'>\n",
      "RangeIndex: 39717 entries, 0 to 39716\n",
      "Columns: 111 entries, id to total_il_high_credit_limit\n",
      "dtypes: float64(74), int64(13), object(24)\n",
      "memory usage: 33.6+ MB\n",
      "None\n",
      "loan status tells us loan is defaulted or not------- ['Fully Paid' 'Charged Off' 'Current']\n"
     ]
    }
   ],
   "source": [
    "#chekcing data columns and info\n",
    "print(data.columns)\n",
    "print(data.info())\n",
    "print(\"loan status tells us loan is defaulted or not-------\",data.loan_status.unique())\n"
   ]
  },
  {
   "cell_type": "code",
   "execution_count": 4,
   "metadata": {},
   "outputs": [
    {
     "data": {
      "image/png": "[encoded data removed]",
      "text/plain": [
       "<Figure size 432x288 with 1 Axes>"
      ]
     },
     "metadata": {
      "needs_background": "light"
     },
     "output_type": "display_data"
    }
   ],
   "source": [
    "data.isnull().sum().plot(kind='bar')\n",
    "plt.xlabel(\"as you can see lot of null mising values are there\")\n",
    "plt.ylabel(\"dark shaded part is missing part\")\n",
    "plt.show()"
   ]
  },
  {
   "cell_type": "markdown",
   "metadata": {},
   "source": [
    "#### After examining found loan_status is target column"
   ]
  },
  {
   "cell_type": "markdown",
   "metadata": {},
   "source": [
    "# Basic cleaning"
   ]
  },
  {
   "cell_type": "code",
   "execution_count": 5,
   "metadata": {},
   "outputs": [
    {
     "name": "stdout",
     "output_type": "stream",
     "text": [
      "data shape after removing null columns (39717, 57)\n"
     ]
    }
   ],
   "source": [
    "# removing columns where every entry is null\n",
    "\n",
    "allnullcols=data.columns[pd.isnull(data).all(axis=0)].tolist()\n",
    "data=data.drop(allnullcols,axis=1)\n",
    "print(\"data shape after removing null columns\",data.shape)"
   ]
  },
  {
   "cell_type": "code",
   "execution_count": 6,
   "metadata": {},
   "outputs": [
    {
     "data": {
      "text/plain": [
       "['pymnt_plan',\n",
       " 'initial_list_status',\n",
       " 'policy_code',\n",
       " 'application_type',\n",
       " 'acc_now_delinq',\n",
       " 'delinq_amnt']"
      ]
     },
     "execution_count": 6,
     "metadata": {},
     "output_type": "execute_result"
    }
   ],
   "source": [
    "# columns where unique value is one means no much data in them to consider\n",
    "\n",
    "uniq1=[]\n",
    "cols=data.columns.tolist()\n",
    "for i in cols:\n",
    "    if len(data[i].unique())==1:\n",
    "        uniq1.append(i)\n",
    "        \n",
    "uniq1"
   ]
  },
  {
   "cell_type": "code",
   "execution_count": 7,
   "metadata": {},
   "outputs": [],
   "source": [
    "#dropping columns where only one unique value is present\n",
    "\n",
    "data=data.drop(uniq1,axis=1)"
   ]
  },
  {
   "cell_type": "code",
   "execution_count": 8,
   "metadata": {},
   "outputs": [
    {
     "data": {
      "text/plain": [
       "id                             0.000000\n",
       "member_id                      0.000000\n",
       "loan_amnt                      0.000000\n",
       "funded_amnt                    0.000000\n",
       "funded_amnt_inv                0.000000\n",
       "term                           0.000000\n",
       "int_rate                       0.000000\n",
       "installment                    0.000000\n",
       "grade                          0.000000\n",
       "sub_grade                      0.000000\n",
       "emp_title                      6.191303\n",
       "emp_length                     2.706650\n",
       "home_ownership                 0.000000\n",
       "annual_inc                     0.000000\n",
       "verification_status            0.000000\n",
       "issue_d                        0.000000\n",
       "loan_status                    0.000000\n",
       "url                            0.000000\n",
       "desc                          32.580507\n",
       "purpose                        0.000000\n",
       "title                          0.027696\n",
       "zip_code                       0.000000\n",
       "addr_state                     0.000000\n",
       "dti                            0.000000\n",
       "delinq_2yrs                    0.000000\n",
       "earliest_cr_line               0.000000\n",
       "inq_last_6mths                 0.000000\n",
       "mths_since_last_delinq        64.662487\n",
       "mths_since_last_record        92.985372\n",
       "open_acc                       0.000000\n",
       "pub_rec                        0.000000\n",
       "revol_bal                      0.000000\n",
       "revol_util                     0.125891\n",
       "total_acc                      0.000000\n",
       "out_prncp                      0.000000\n",
       "out_prncp_inv                  0.000000\n",
       "total_pymnt                    0.000000\n",
       "total_pymnt_inv                0.000000\n",
       "total_rec_prncp                0.000000\n",
       "total_rec_int                  0.000000\n",
       "total_rec_late_fee             0.000000\n",
       "recoveries                     0.000000\n",
       "collection_recovery_fee        0.000000\n",
       "last_pymnt_d                   0.178765\n",
       "last_pymnt_amnt                0.000000\n",
       "next_pymnt_d                  97.129693\n",
       "last_credit_pull_d             0.005036\n",
       "collections_12_mths_ex_med     0.140998\n",
       "chargeoff_within_12_mths       0.140998\n",
       "pub_rec_bankruptcies           1.754916\n",
       "tax_liens                      0.098195\n",
       "dtype: float64"
      ]
     },
     "execution_count": 8,
     "metadata": {},
     "output_type": "execute_result"
    }
   ],
   "source": [
    "#percentage of missing values column wise.\n",
    "(data.isnull().sum()/data.shape[0])*100"
   ]
  },
  {
   "cell_type": "code",
   "execution_count": 9,
   "metadata": {},
   "outputs": [
    {
     "name": "stdout",
     "output_type": "stream",
     "text": [
      "['mths_since_last_delinq', 'mths_since_last_record', 'next_pymnt_d']\n"
     ]
    }
   ],
   "source": [
    "#columns where missing values are more than 50%\n",
    "\n",
    "missing50=data.columns[(data.isnull().sum()/data.shape[0])*100 > 50].tolist()\n",
    "print(missing50)"
   ]
  },
  {
   "cell_type": "code",
   "execution_count": 10,
   "metadata": {},
   "outputs": [],
   "source": [
    "#dropping columns where values are missing more than 90%\n",
    "\n",
    "data=data.drop(missing50,axis=1)"
   ]
  },
  {
   "cell_type": "code",
   "execution_count": 11,
   "metadata": {},
   "outputs": [
    {
     "data": {
      "text/plain": [
       "id                             0.000000\n",
       "member_id                      0.000000\n",
       "loan_amnt                      0.000000\n",
       "funded_amnt                    0.000000\n",
       "funded_amnt_inv                0.000000\n",
       "term                           0.000000\n",
       "int_rate                       0.000000\n",
       "installment                    0.000000\n",
       "grade                          0.000000\n",
       "sub_grade                      0.000000\n",
       "emp_title                      6.191303\n",
       "emp_length                     2.706650\n",
       "home_ownership                 0.000000\n",
       "annual_inc                     0.000000\n",
       "verification_status            0.000000\n",
       "issue_d                        0.000000\n",
       "loan_status                    0.000000\n",
       "url                            0.000000\n",
       "desc                          32.580507\n",
       "purpose                        0.000000\n",
       "title                          0.027696\n",
       "zip_code                       0.000000\n",
       "addr_state                     0.000000\n",
       "dti                            0.000000\n",
       "delinq_2yrs                    0.000000\n",
       "earliest_cr_line               0.000000\n",
       "inq_last_6mths                 0.000000\n",
       "open_acc                       0.000000\n",
       "pub_rec                        0.000000\n",
       "revol_bal                      0.000000\n",
       "revol_util                     0.125891\n",
       "total_acc                      0.000000\n",
       "out_prncp                      0.000000\n",
       "out_prncp_inv                  0.000000\n",
       "total_pymnt                    0.000000\n",
       "total_pymnt_inv                0.000000\n",
       "total_rec_prncp                0.000000\n",
       "total_rec_int                  0.000000\n",
       "total_rec_late_fee             0.000000\n",
       "recoveries                     0.000000\n",
       "collection_recovery_fee        0.000000\n",
       "last_pymnt_d                   0.178765\n",
       "last_pymnt_amnt                0.000000\n",
       "last_credit_pull_d             0.005036\n",
       "collections_12_mths_ex_med     0.140998\n",
       "chargeoff_within_12_mths       0.140998\n",
       "pub_rec_bankruptcies           1.754916\n",
       "tax_liens                      0.098195\n",
       "dtype: float64"
      ]
     },
     "execution_count": 11,
     "metadata": {},
     "output_type": "execute_result"
    }
   ],
   "source": [
    "#percentage of missing values column wise.\n",
    "\n",
    "(data.isnull().sum()/data.shape[0])*100"
   ]
  },
  {
   "cell_type": "code",
   "execution_count": 12,
   "metadata": {},
   "outputs": [
    {
     "name": "stdout",
     "output_type": "stream",
     "text": [
      "(39717, 48)\n"
     ]
    },
    {
     "data": {
      "text/html": [
       "<div>\n",
       "<style scoped>\n",
       "    .dataframe tbody tr th:only-of-type {\n",
       "        vertical-align: middle;\n",
       "    }\n",
       "\n",
       "    .dataframe tbody tr th {\n",
       "        vertical-align: top;\n",
       "    }\n",
       "\n",
       "    .dataframe thead th {\n",
       "        text-align: right;\n",
       "    }\n",
       "</style>\n",
       "<table border=\"1\" class=\"dataframe\">\n",
       "  <thead>\n",
       "    <tr style=\"text-align: right;\">\n",
       "      <th></th>\n",
       "      <th>id</th>\n",
       "      <th>member_id</th>\n",
       "      <th>loan_amnt</th>\n",
       "      <th>funded_amnt</th>\n",
       "      <th>funded_amnt_inv</th>\n",
       "      <th>term</th>\n",
       "      <th>int_rate</th>\n",
       "      <th>installment</th>\n",
       "      <th>grade</th>\n",
       "      <th>sub_grade</th>\n",
       "      <th>...</th>\n",
       "      <th>total_rec_late_fee</th>\n",
       "      <th>recoveries</th>\n",
       "      <th>collection_recovery_fee</th>\n",
       "      <th>last_pymnt_d</th>\n",
       "      <th>last_pymnt_amnt</th>\n",
       "      <th>last_credit_pull_d</th>\n",
       "      <th>collections_12_mths_ex_med</th>\n",
       "      <th>chargeoff_within_12_mths</th>\n",
       "      <th>pub_rec_bankruptcies</th>\n",
       "      <th>tax_liens</th>\n",
       "    </tr>\n",
       "  </thead>\n",
       "  <tbody>\n",
       "    <tr>\n",
       "      <td>0</td>\n",
       "      <td>1077501</td>\n",
       "      <td>1296599</td>\n",
       "      <td>5000</td>\n",
       "      <td>5000</td>\n",
       "      <td>4975.0</td>\n",
       "      <td>36 months</td>\n",
       "      <td>10.65%</td>\n",
       "      <td>162.87</td>\n",
       "      <td>B</td>\n",
       "      <td>B2</td>\n",
       "      <td>...</td>\n",
       "      <td>0.00</td>\n",
       "      <td>0.00</td>\n",
       "      <td>0.00</td>\n",
       "      <td>Jan-15</td>\n",
       "      <td>171.62</td>\n",
       "      <td>May-16</td>\n",
       "      <td>0.0</td>\n",
       "      <td>0.0</td>\n",
       "      <td>0.0</td>\n",
       "      <td>0.0</td>\n",
       "    </tr>\n",
       "    <tr>\n",
       "      <td>1</td>\n",
       "      <td>1077430</td>\n",
       "      <td>1314167</td>\n",
       "      <td>2500</td>\n",
       "      <td>2500</td>\n",
       "      <td>2500.0</td>\n",
       "      <td>60 months</td>\n",
       "      <td>15.27%</td>\n",
       "      <td>59.83</td>\n",
       "      <td>C</td>\n",
       "      <td>C4</td>\n",
       "      <td>...</td>\n",
       "      <td>0.00</td>\n",
       "      <td>117.08</td>\n",
       "      <td>1.11</td>\n",
       "      <td>Apr-13</td>\n",
       "      <td>119.66</td>\n",
       "      <td>Sep-13</td>\n",
       "      <td>0.0</td>\n",
       "      <td>0.0</td>\n",
       "      <td>0.0</td>\n",
       "      <td>0.0</td>\n",
       "    </tr>\n",
       "    <tr>\n",
       "      <td>2</td>\n",
       "      <td>1077175</td>\n",
       "      <td>1313524</td>\n",
       "      <td>2400</td>\n",
       "      <td>2400</td>\n",
       "      <td>2400.0</td>\n",
       "      <td>36 months</td>\n",
       "      <td>15.96%</td>\n",
       "      <td>84.33</td>\n",
       "      <td>C</td>\n",
       "      <td>C5</td>\n",
       "      <td>...</td>\n",
       "      <td>0.00</td>\n",
       "      <td>0.00</td>\n",
       "      <td>0.00</td>\n",
       "      <td>Jun-14</td>\n",
       "      <td>649.91</td>\n",
       "      <td>May-16</td>\n",
       "      <td>0.0</td>\n",
       "      <td>0.0</td>\n",
       "      <td>0.0</td>\n",
       "      <td>0.0</td>\n",
       "    </tr>\n",
       "    <tr>\n",
       "      <td>3</td>\n",
       "      <td>1076863</td>\n",
       "      <td>1277178</td>\n",
       "      <td>10000</td>\n",
       "      <td>10000</td>\n",
       "      <td>10000.0</td>\n",
       "      <td>36 months</td>\n",
       "      <td>13.49%</td>\n",
       "      <td>339.31</td>\n",
       "      <td>C</td>\n",
       "      <td>C1</td>\n",
       "      <td>...</td>\n",
       "      <td>16.97</td>\n",
       "      <td>0.00</td>\n",
       "      <td>0.00</td>\n",
       "      <td>Jan-15</td>\n",
       "      <td>357.48</td>\n",
       "      <td>Apr-16</td>\n",
       "      <td>0.0</td>\n",
       "      <td>0.0</td>\n",
       "      <td>0.0</td>\n",
       "      <td>0.0</td>\n",
       "    </tr>\n",
       "    <tr>\n",
       "      <td>4</td>\n",
       "      <td>1075358</td>\n",
       "      <td>1311748</td>\n",
       "      <td>3000</td>\n",
       "      <td>3000</td>\n",
       "      <td>3000.0</td>\n",
       "      <td>60 months</td>\n",
       "      <td>12.69%</td>\n",
       "      <td>67.79</td>\n",
       "      <td>B</td>\n",
       "      <td>B5</td>\n",
       "      <td>...</td>\n",
       "      <td>0.00</td>\n",
       "      <td>0.00</td>\n",
       "      <td>0.00</td>\n",
       "      <td>May-16</td>\n",
       "      <td>67.79</td>\n",
       "      <td>May-16</td>\n",
       "      <td>0.0</td>\n",
       "      <td>0.0</td>\n",
       "      <td>0.0</td>\n",
       "      <td>0.0</td>\n",
       "    </tr>\n",
       "  </tbody>\n",
       "</table>\n",
       "<p>5 rows × 48 columns</p>\n",
       "</div>"
      ],
      "text/plain": [
       "        id  member_id  loan_amnt  funded_amnt  funded_amnt_inv        term  \\\n",
       "0  1077501    1296599       5000         5000           4975.0   36 months   \n",
       "1  1077430    1314167       2500         2500           2500.0   60 months   \n",
       "2  1077175    1313524       2400         2400           2400.0   36 months   \n",
       "3  1076863    1277178      10000        10000          10000.0   36 months   \n",
       "4  1075358    1311748       3000         3000           3000.0   60 months   \n",
       "\n",
       "  int_rate  installment grade sub_grade  ... total_rec_late_fee recoveries  \\\n",
       "0   10.65%       162.87     B        B2  ...               0.00       0.00   \n",
       "1   15.27%        59.83     C        C4  ...               0.00     117.08   \n",
       "2   15.96%        84.33     C        C5  ...               0.00       0.00   \n",
       "3   13.49%       339.31     C        C1  ...              16.97       0.00   \n",
       "4   12.69%        67.79     B        B5  ...               0.00       0.00   \n",
       "\n",
       "  collection_recovery_fee  last_pymnt_d last_pymnt_amnt last_credit_pull_d  \\\n",
       "0                    0.00        Jan-15          171.62             May-16   \n",
       "1                    1.11        Apr-13          119.66             Sep-13   \n",
       "2                    0.00        Jun-14          649.91             May-16   \n",
       "3                    0.00        Jan-15          357.48             Apr-16   \n",
       "4                    0.00        May-16           67.79             May-16   \n",
       "\n",
       "  collections_12_mths_ex_med chargeoff_within_12_mths pub_rec_bankruptcies  \\\n",
       "0                        0.0                      0.0                  0.0   \n",
       "1                        0.0                      0.0                  0.0   \n",
       "2                        0.0                      0.0                  0.0   \n",
       "3                        0.0                      0.0                  0.0   \n",
       "4                        0.0                      0.0                  0.0   \n",
       "\n",
       "  tax_liens  \n",
       "0       0.0  \n",
       "1       0.0  \n",
       "2       0.0  \n",
       "3       0.0  \n",
       "4       0.0  \n",
       "\n",
       "[5 rows x 48 columns]"
      ]
     },
     "execution_count": 12,
     "metadata": {},
     "output_type": "execute_result"
    }
   ],
   "source": [
    "print(data.shape)\n",
    "# So we are ended up with # columns after removing these missing values\n",
    "data.head()"
   ]
  },
  {
   "cell_type": "code",
   "execution_count": 13,
   "metadata": {},
   "outputs": [
    {
     "name": "stdout",
     "output_type": "stream",
     "text": [
      "maximum missing values in any given row are  6\n"
     ]
    }
   ],
   "source": [
    "# maximum missing values in any given row\n",
    "print(\"maximum missing values in any given row are \",data.isnull().sum(axis=1).max())\n",
    "\n",
    "# so every row matters now"
   ]
  },
  {
   "cell_type": "code",
   "execution_count": 14,
   "metadata": {},
   "outputs": [
    {
     "name": "stdout",
     "output_type": "stream",
     "text": [
      "no of unique values in  id ------------- 39717\n",
      "no of unique values in  member_id ------------- 39717\n",
      "no of unique values in  loan_amnt ------------- 885\n",
      "no of unique values in  funded_amnt ------------- 1041\n",
      "no of unique values in  funded_amnt_inv ------------- 8205\n",
      "no of unique values in  term ------------- 2\n",
      "no of unique values in  int_rate ------------- 371\n",
      "no of unique values in  installment ------------- 15383\n",
      "no of unique values in  grade ------------- 7\n",
      "no of unique values in  sub_grade ------------- 35\n",
      "no of unique values in  emp_title ------------- 28821\n",
      "no of unique values in  emp_length ------------- 12\n",
      "no of unique values in  home_ownership ------------- 5\n",
      "no of unique values in  annual_inc ------------- 5318\n",
      "no of unique values in  verification_status ------------- 3\n",
      "no of unique values in  issue_d ------------- 55\n",
      "no of unique values in  loan_status ------------- 3\n",
      "no of unique values in  url ------------- 39717\n",
      "no of unique values in  desc ------------- 26528\n",
      "no of unique values in  purpose ------------- 14\n",
      "no of unique values in  title ------------- 19616\n",
      "no of unique values in  zip_code ------------- 823\n",
      "no of unique values in  addr_state ------------- 50\n",
      "no of unique values in  dti ------------- 2868\n",
      "no of unique values in  delinq_2yrs ------------- 11\n",
      "no of unique values in  earliest_cr_line ------------- 526\n",
      "no of unique values in  inq_last_6mths ------------- 9\n",
      "no of unique values in  open_acc ------------- 40\n",
      "no of unique values in  pub_rec ------------- 5\n",
      "no of unique values in  revol_bal ------------- 21711\n",
      "no of unique values in  revol_util ------------- 1090\n",
      "no of unique values in  total_acc ------------- 82\n",
      "no of unique values in  out_prncp ------------- 1137\n",
      "no of unique values in  out_prncp_inv ------------- 1138\n",
      "no of unique values in  total_pymnt ------------- 37850\n",
      "no of unique values in  total_pymnt_inv ------------- 37518\n",
      "no of unique values in  total_rec_prncp ------------- 7976\n",
      "no of unique values in  total_rec_int ------------- 35148\n",
      "no of unique values in  total_rec_late_fee ------------- 1356\n",
      "no of unique values in  recoveries ------------- 4040\n",
      "no of unique values in  collection_recovery_fee ------------- 2616\n",
      "no of unique values in  last_pymnt_d ------------- 102\n",
      "no of unique values in  last_pymnt_amnt ------------- 34930\n",
      "no of unique values in  last_credit_pull_d ------------- 107\n",
      "no of unique values in  collections_12_mths_ex_med ------------- 2\n",
      "no of unique values in  chargeoff_within_12_mths ------------- 2\n",
      "no of unique values in  pub_rec_bankruptcies ------------- 4\n",
      "no of unique values in  tax_liens ------------- 2\n"
     ]
    }
   ],
   "source": [
    "#no of unique entries in every column\n",
    "\n",
    "cols=data.columns.tolist()\n",
    "for i in cols:\n",
    "    print(\"no of unique values in \",i,\"-------------\",len(data[i].unique()))\n",
    "        "
   ]
  },
  {
   "cell_type": "markdown",
   "metadata": {},
   "source": [
    "## Advanced cleaning"
   ]
  },
  {
   "cell_type": "code",
   "execution_count": 15,
   "metadata": {},
   "outputs": [
    {
     "data": {
      "text/html": [
       "<div>\n",
       "<style scoped>\n",
       "    .dataframe tbody tr th:only-of-type {\n",
       "        vertical-align: middle;\n",
       "    }\n",
       "\n",
       "    .dataframe tbody tr th {\n",
       "        vertical-align: top;\n",
       "    }\n",
       "\n",
       "    .dataframe thead th {\n",
       "        text-align: right;\n",
       "    }\n",
       "</style>\n",
       "<table border=\"1\" class=\"dataframe\">\n",
       "  <thead>\n",
       "    <tr style=\"text-align: right;\">\n",
       "      <th></th>\n",
       "      <th>id</th>\n",
       "      <th>member_id</th>\n",
       "      <th>loan_amnt</th>\n",
       "      <th>funded_amnt</th>\n",
       "      <th>funded_amnt_inv</th>\n",
       "      <th>installment</th>\n",
       "      <th>annual_inc</th>\n",
       "      <th>dti</th>\n",
       "      <th>delinq_2yrs</th>\n",
       "      <th>inq_last_6mths</th>\n",
       "      <th>...</th>\n",
       "      <th>total_rec_prncp</th>\n",
       "      <th>total_rec_int</th>\n",
       "      <th>total_rec_late_fee</th>\n",
       "      <th>recoveries</th>\n",
       "      <th>collection_recovery_fee</th>\n",
       "      <th>last_pymnt_amnt</th>\n",
       "      <th>collections_12_mths_ex_med</th>\n",
       "      <th>chargeoff_within_12_mths</th>\n",
       "      <th>pub_rec_bankruptcies</th>\n",
       "      <th>tax_liens</th>\n",
       "    </tr>\n",
       "  </thead>\n",
       "  <tbody>\n",
       "    <tr>\n",
       "      <td>count</td>\n",
       "      <td>3.971700e+04</td>\n",
       "      <td>3.971700e+04</td>\n",
       "      <td>39717.000000</td>\n",
       "      <td>39717.000000</td>\n",
       "      <td>39717.000000</td>\n",
       "      <td>39717.000000</td>\n",
       "      <td>3.971700e+04</td>\n",
       "      <td>39717.000000</td>\n",
       "      <td>39717.000000</td>\n",
       "      <td>39717.000000</td>\n",
       "      <td>...</td>\n",
       "      <td>39717.000000</td>\n",
       "      <td>39717.000000</td>\n",
       "      <td>39717.000000</td>\n",
       "      <td>39717.000000</td>\n",
       "      <td>39717.000000</td>\n",
       "      <td>39717.000000</td>\n",
       "      <td>39661.0</td>\n",
       "      <td>39661.0</td>\n",
       "      <td>39020.000000</td>\n",
       "      <td>39678.0</td>\n",
       "    </tr>\n",
       "    <tr>\n",
       "      <td>mean</td>\n",
       "      <td>6.831319e+05</td>\n",
       "      <td>8.504636e+05</td>\n",
       "      <td>11219.443815</td>\n",
       "      <td>10947.713196</td>\n",
       "      <td>10397.448868</td>\n",
       "      <td>324.561922</td>\n",
       "      <td>6.896893e+04</td>\n",
       "      <td>13.315130</td>\n",
       "      <td>0.146512</td>\n",
       "      <td>0.869200</td>\n",
       "      <td>...</td>\n",
       "      <td>9793.348813</td>\n",
       "      <td>2263.663172</td>\n",
       "      <td>1.363015</td>\n",
       "      <td>95.221624</td>\n",
       "      <td>12.406112</td>\n",
       "      <td>2678.826162</td>\n",
       "      <td>0.0</td>\n",
       "      <td>0.0</td>\n",
       "      <td>0.043260</td>\n",
       "      <td>0.0</td>\n",
       "    </tr>\n",
       "    <tr>\n",
       "      <td>std</td>\n",
       "      <td>2.106941e+05</td>\n",
       "      <td>2.656783e+05</td>\n",
       "      <td>7456.670694</td>\n",
       "      <td>7187.238670</td>\n",
       "      <td>7128.450439</td>\n",
       "      <td>208.874874</td>\n",
       "      <td>6.379377e+04</td>\n",
       "      <td>6.678594</td>\n",
       "      <td>0.491812</td>\n",
       "      <td>1.070219</td>\n",
       "      <td>...</td>\n",
       "      <td>7065.522127</td>\n",
       "      <td>2608.111964</td>\n",
       "      <td>7.289979</td>\n",
       "      <td>688.744771</td>\n",
       "      <td>148.671593</td>\n",
       "      <td>4447.136012</td>\n",
       "      <td>0.0</td>\n",
       "      <td>0.0</td>\n",
       "      <td>0.204324</td>\n",
       "      <td>0.0</td>\n",
       "    </tr>\n",
       "    <tr>\n",
       "      <td>min</td>\n",
       "      <td>5.473400e+04</td>\n",
       "      <td>7.069900e+04</td>\n",
       "      <td>500.000000</td>\n",
       "      <td>500.000000</td>\n",
       "      <td>0.000000</td>\n",
       "      <td>15.690000</td>\n",
       "      <td>4.000000e+03</td>\n",
       "      <td>0.000000</td>\n",
       "      <td>0.000000</td>\n",
       "      <td>0.000000</td>\n",
       "      <td>...</td>\n",
       "      <td>0.000000</td>\n",
       "      <td>0.000000</td>\n",
       "      <td>0.000000</td>\n",
       "      <td>0.000000</td>\n",
       "      <td>0.000000</td>\n",
       "      <td>0.000000</td>\n",
       "      <td>0.0</td>\n",
       "      <td>0.0</td>\n",
       "      <td>0.000000</td>\n",
       "      <td>0.0</td>\n",
       "    </tr>\n",
       "    <tr>\n",
       "      <td>25%</td>\n",
       "      <td>5.162210e+05</td>\n",
       "      <td>6.667800e+05</td>\n",
       "      <td>5500.000000</td>\n",
       "      <td>5400.000000</td>\n",
       "      <td>5000.000000</td>\n",
       "      <td>167.020000</td>\n",
       "      <td>4.040400e+04</td>\n",
       "      <td>8.170000</td>\n",
       "      <td>0.000000</td>\n",
       "      <td>0.000000</td>\n",
       "      <td>...</td>\n",
       "      <td>4600.000000</td>\n",
       "      <td>662.180000</td>\n",
       "      <td>0.000000</td>\n",
       "      <td>0.000000</td>\n",
       "      <td>0.000000</td>\n",
       "      <td>218.680000</td>\n",
       "      <td>0.0</td>\n",
       "      <td>0.0</td>\n",
       "      <td>0.000000</td>\n",
       "      <td>0.0</td>\n",
       "    </tr>\n",
       "    <tr>\n",
       "      <td>50%</td>\n",
       "      <td>6.656650e+05</td>\n",
       "      <td>8.508120e+05</td>\n",
       "      <td>10000.000000</td>\n",
       "      <td>9600.000000</td>\n",
       "      <td>8975.000000</td>\n",
       "      <td>280.220000</td>\n",
       "      <td>5.900000e+04</td>\n",
       "      <td>13.400000</td>\n",
       "      <td>0.000000</td>\n",
       "      <td>1.000000</td>\n",
       "      <td>...</td>\n",
       "      <td>8000.000000</td>\n",
       "      <td>1348.910000</td>\n",
       "      <td>0.000000</td>\n",
       "      <td>0.000000</td>\n",
       "      <td>0.000000</td>\n",
       "      <td>546.140000</td>\n",
       "      <td>0.0</td>\n",
       "      <td>0.0</td>\n",
       "      <td>0.000000</td>\n",
       "      <td>0.0</td>\n",
       "    </tr>\n",
       "    <tr>\n",
       "      <td>75%</td>\n",
       "      <td>8.377550e+05</td>\n",
       "      <td>1.047339e+06</td>\n",
       "      <td>15000.000000</td>\n",
       "      <td>15000.000000</td>\n",
       "      <td>14400.000000</td>\n",
       "      <td>430.780000</td>\n",
       "      <td>8.230000e+04</td>\n",
       "      <td>18.600000</td>\n",
       "      <td>0.000000</td>\n",
       "      <td>1.000000</td>\n",
       "      <td>...</td>\n",
       "      <td>13653.260000</td>\n",
       "      <td>2833.400000</td>\n",
       "      <td>0.000000</td>\n",
       "      <td>0.000000</td>\n",
       "      <td>0.000000</td>\n",
       "      <td>3293.160000</td>\n",
       "      <td>0.0</td>\n",
       "      <td>0.0</td>\n",
       "      <td>0.000000</td>\n",
       "      <td>0.0</td>\n",
       "    </tr>\n",
       "    <tr>\n",
       "      <td>max</td>\n",
       "      <td>1.077501e+06</td>\n",
       "      <td>1.314167e+06</td>\n",
       "      <td>35000.000000</td>\n",
       "      <td>35000.000000</td>\n",
       "      <td>35000.000000</td>\n",
       "      <td>1305.190000</td>\n",
       "      <td>6.000000e+06</td>\n",
       "      <td>29.990000</td>\n",
       "      <td>11.000000</td>\n",
       "      <td>8.000000</td>\n",
       "      <td>...</td>\n",
       "      <td>35000.020000</td>\n",
       "      <td>23563.680000</td>\n",
       "      <td>180.200000</td>\n",
       "      <td>29623.350000</td>\n",
       "      <td>7002.190000</td>\n",
       "      <td>36115.200000</td>\n",
       "      <td>0.0</td>\n",
       "      <td>0.0</td>\n",
       "      <td>2.000000</td>\n",
       "      <td>0.0</td>\n",
       "    </tr>\n",
       "  </tbody>\n",
       "</table>\n",
       "<p>8 rows × 28 columns</p>\n",
       "</div>"
      ],
      "text/plain": [
       "                 id     member_id     loan_amnt   funded_amnt  \\\n",
       "count  3.971700e+04  3.971700e+04  39717.000000  39717.000000   \n",
       "mean   6.831319e+05  8.504636e+05  11219.443815  10947.713196   \n",
       "std    2.106941e+05  2.656783e+05   7456.670694   7187.238670   \n",
       "min    5.473400e+04  7.069900e+04    500.000000    500.000000   \n",
       "25%    5.162210e+05  6.667800e+05   5500.000000   5400.000000   \n",
       "50%    6.656650e+05  8.508120e+05  10000.000000   9600.000000   \n",
       "75%    8.377550e+05  1.047339e+06  15000.000000  15000.000000   \n",
       "max    1.077501e+06  1.314167e+06  35000.000000  35000.000000   \n",
       "\n",
       "       funded_amnt_inv   installment    annual_inc           dti  \\\n",
       "count     39717.000000  39717.000000  3.971700e+04  39717.000000   \n",
       "mean      10397.448868    324.561922  6.896893e+04     13.315130   \n",
       "std        7128.450439    208.874874  6.379377e+04      6.678594   \n",
       "min           0.000000     15.690000  4.000000e+03      0.000000   \n",
       "25%        5000.000000    167.020000  4.040400e+04      8.170000   \n",
       "50%        8975.000000    280.220000  5.900000e+04     13.400000   \n",
       "75%       14400.000000    430.780000  8.230000e+04     18.600000   \n",
       "max       35000.000000   1305.190000  6.000000e+06     29.990000   \n",
       "\n",
       "        delinq_2yrs  inq_last_6mths  ...  total_rec_prncp  total_rec_int  \\\n",
       "count  39717.000000    39717.000000  ...     39717.000000   39717.000000   \n",
       "mean       0.146512        0.869200  ...      9793.348813    2263.663172   \n",
       "std        0.491812        1.070219  ...      7065.522127    2608.111964   \n",
       "min        0.000000        0.000000  ...         0.000000       0.000000   \n",
       "25%        0.000000        0.000000  ...      4600.000000     662.180000   \n",
       "50%        0.000000        1.000000  ...      8000.000000    1348.910000   \n",
       "75%        0.000000        1.000000  ...     13653.260000    2833.400000   \n",
       "max       11.000000        8.000000  ...     35000.020000   23563.680000   \n",
       "\n",
       "       total_rec_late_fee    recoveries  collection_recovery_fee  \\\n",
       "count        39717.000000  39717.000000             39717.000000   \n",
       "mean             1.363015     95.221624                12.406112   \n",
       "std              7.289979    688.744771               148.671593   \n",
       "min              0.000000      0.000000                 0.000000   \n",
       "25%              0.000000      0.000000                 0.000000   \n",
       "50%              0.000000      0.000000                 0.000000   \n",
       "75%              0.000000      0.000000                 0.000000   \n",
       "max            180.200000  29623.350000              7002.190000   \n",
       "\n",
       "       last_pymnt_amnt  collections_12_mths_ex_med  chargeoff_within_12_mths  \\\n",
       "count     39717.000000                     39661.0                   39661.0   \n",
       "mean       2678.826162                         0.0                       0.0   \n",
       "std        4447.136012                         0.0                       0.0   \n",
       "min           0.000000                         0.0                       0.0   \n",
       "25%         218.680000                         0.0                       0.0   \n",
       "50%         546.140000                         0.0                       0.0   \n",
       "75%        3293.160000                         0.0                       0.0   \n",
       "max       36115.200000                         0.0                       0.0   \n",
       "\n",
       "       pub_rec_bankruptcies  tax_liens  \n",
       "count          39020.000000    39678.0  \n",
       "mean               0.043260        0.0  \n",
       "std                0.204324        0.0  \n",
       "min                0.000000        0.0  \n",
       "25%                0.000000        0.0  \n",
       "50%                0.000000        0.0  \n",
       "75%                0.000000        0.0  \n",
       "max                2.000000        0.0  \n",
       "\n",
       "[8 rows x 28 columns]"
      ]
     },
     "execution_count": 15,
     "metadata": {},
     "output_type": "execute_result"
    }
   ],
   "source": [
    "pd.DataFrame(data.describe())"
   ]
  },
  {
   "cell_type": "markdown",
   "metadata": {},
   "source": [
    "### There are few columns we need to drop"
   ]
  },
  {
   "cell_type": "code",
   "execution_count": 16,
   "metadata": {},
   "outputs": [],
   "source": [
    "# id column is just random it never decides the outcome\n",
    "data=data.drop('id',axis=1)\n",
    "\n",
    "# member_id column is same as id, so we will drop that\n",
    "data=data.drop('member_id',axis=1)\n",
    "\n",
    "# desc column is long and doesn't contain significance in predicting outcome\n",
    "data=data.drop('desc',axis=1)\n",
    "\n",
    "# column emp_title doesn't provide any significance to predicting \n",
    "data=data.drop('emp_title',axis=1)\n",
    "\n",
    "# url column is just random variable url never decicede defaulter\n",
    "data=data.drop('url',axis=1)\n",
    "\n",
    "#title columns contains few thousands of unique values\n",
    "data=data.drop('title',axis=1)\n",
    "\n",
    "#only zeros and nan are present in collections_12_mths_ex_med\n",
    "data=data.drop('collections_12_mths_ex_med',axis=1)\n",
    "\n",
    "#only zeros and nan are present in chargeoff_within_12_mths\n",
    "data=data.drop('chargeoff_within_12_mths',axis=1)\n",
    "\n",
    "#only zeros and nan are present in tax_liens\n",
    "data=data.drop('tax_liens',axis=1)\n",
    "\n",
    "data=data.drop('last_pymnt_d',axis=1)\n",
    "data=data.drop('last_credit_pull_d',axis=1)\n",
    "data=data.drop('revol_util',axis=1)\n",
    "data=data.drop('zip_code',axis=1)\n",
    "data=data.drop('out_prncp',axis=1)\n",
    "data=data.drop('out_prncp_inv',axis=1)"
   ]
  },
  {
   "cell_type": "code",
   "execution_count": 17,
   "metadata": {},
   "outputs": [
    {
     "name": "stdout",
     "output_type": "stream",
     "text": [
      "so we endedup with this varibles after cleaning 33\n"
     ]
    }
   ],
   "source": [
    "print(\"so we endedup with this varibles after cleaning\",data.shape[1])"
   ]
  },
  {
   "cell_type": "code",
   "execution_count": 18,
   "metadata": {},
   "outputs": [
    {
     "data": {
      "text/plain": [
       "['emp_length', 'pub_rec_bankruptcies']"
      ]
     },
     "execution_count": 18,
     "metadata": {},
     "output_type": "execute_result"
    }
   ],
   "source": [
    "# these are the columns with few missing values\n",
    "\n",
    "missing=data.columns[data.isnull().sum()>0].tolist()\n",
    "missing"
   ]
  },
  {
   "cell_type": "code",
   "execution_count": 19,
   "metadata": {},
   "outputs": [],
   "source": [
    "#since only column with missing values is pub_rec_backrupties and have only 3 unique values\n",
    "# we can't impute mean here so we go with mode since mode has more chances of occurances\n",
    "data['pub_rec_bankruptcies']=data['pub_rec_bankruptcies'].fillna(0)"
   ]
  },
  {
   "cell_type": "code",
   "execution_count": 20,
   "metadata": {},
   "outputs": [],
   "source": [
    "dtype_obj=[]\n",
    "dtype_float=[]\n",
    "for i in data.columns:\n",
    "    #print(\"column name :\",i)\n",
    "    if data[i].describe().dtype==object:\n",
    "        dtype_obj.append(i)\n",
    "    if data[i].describe().dtype==float:\n",
    "        dtype_float.append(i)\n"
   ]
  },
  {
   "cell_type": "markdown",
   "metadata": {},
   "source": [
    "## we dropped columns now lets drop rows"
   ]
  },
  {
   "cell_type": "code",
   "execution_count": 21,
   "metadata": {},
   "outputs": [
    {
     "name": "stdout",
     "output_type": "stream",
     "text": [
      "since we have 3 unique values in loan_status\n",
      "['Fully Paid', 'Charged Off', 'Current']\n"
     ]
    }
   ],
   "source": [
    "#Since we are concerned about loan_status we will start there\n",
    "\n",
    "print(\"since we have 3 unique values in loan_status\")\n",
    "print(data.loan_status.unique().tolist())\n",
    "\n",
    "# current status rows is not required since it doesn't tell us whether loan is default or not "
   ]
  },
  {
   "cell_type": "code",
   "execution_count": 22,
   "metadata": {},
   "outputs": [],
   "source": [
    "# removing rows where loan status is current\n",
    "data=data[data.loan_status!='Current']"
   ]
  },
  {
   "cell_type": "code",
   "execution_count": 23,
   "metadata": {},
   "outputs": [
    {
     "data": {
      "text/html": [
       "<div>\n",
       "<style scoped>\n",
       "    .dataframe tbody tr th:only-of-type {\n",
       "        vertical-align: middle;\n",
       "    }\n",
       "\n",
       "    .dataframe tbody tr th {\n",
       "        vertical-align: top;\n",
       "    }\n",
       "\n",
       "    .dataframe thead th {\n",
       "        text-align: right;\n",
       "    }\n",
       "</style>\n",
       "<table border=\"1\" class=\"dataframe\">\n",
       "  <thead>\n",
       "    <tr style=\"text-align: right;\">\n",
       "      <th></th>\n",
       "      <th>loan_amnt</th>\n",
       "      <th>funded_amnt</th>\n",
       "      <th>funded_amnt_inv</th>\n",
       "      <th>term</th>\n",
       "      <th>int_rate</th>\n",
       "      <th>installment</th>\n",
       "      <th>grade</th>\n",
       "      <th>sub_grade</th>\n",
       "      <th>emp_length</th>\n",
       "      <th>home_ownership</th>\n",
       "      <th>...</th>\n",
       "      <th>total_acc</th>\n",
       "      <th>total_pymnt</th>\n",
       "      <th>total_pymnt_inv</th>\n",
       "      <th>total_rec_prncp</th>\n",
       "      <th>total_rec_int</th>\n",
       "      <th>total_rec_late_fee</th>\n",
       "      <th>recoveries</th>\n",
       "      <th>collection_recovery_fee</th>\n",
       "      <th>last_pymnt_amnt</th>\n",
       "      <th>pub_rec_bankruptcies</th>\n",
       "    </tr>\n",
       "  </thead>\n",
       "  <tbody>\n",
       "    <tr>\n",
       "      <td>0</td>\n",
       "      <td>5000</td>\n",
       "      <td>5000</td>\n",
       "      <td>4975.0</td>\n",
       "      <td>36 months</td>\n",
       "      <td>10.65%</td>\n",
       "      <td>162.87</td>\n",
       "      <td>B</td>\n",
       "      <td>B2</td>\n",
       "      <td>10+ years</td>\n",
       "      <td>RENT</td>\n",
       "      <td>...</td>\n",
       "      <td>9</td>\n",
       "      <td>5863.155187</td>\n",
       "      <td>5833.84</td>\n",
       "      <td>5000.00</td>\n",
       "      <td>863.16</td>\n",
       "      <td>0.00</td>\n",
       "      <td>0.00</td>\n",
       "      <td>0.00</td>\n",
       "      <td>171.62</td>\n",
       "      <td>0.0</td>\n",
       "    </tr>\n",
       "    <tr>\n",
       "      <td>1</td>\n",
       "      <td>2500</td>\n",
       "      <td>2500</td>\n",
       "      <td>2500.0</td>\n",
       "      <td>60 months</td>\n",
       "      <td>15.27%</td>\n",
       "      <td>59.83</td>\n",
       "      <td>C</td>\n",
       "      <td>C4</td>\n",
       "      <td>&lt; 1 year</td>\n",
       "      <td>RENT</td>\n",
       "      <td>...</td>\n",
       "      <td>4</td>\n",
       "      <td>1008.710000</td>\n",
       "      <td>1008.71</td>\n",
       "      <td>456.46</td>\n",
       "      <td>435.17</td>\n",
       "      <td>0.00</td>\n",
       "      <td>117.08</td>\n",
       "      <td>1.11</td>\n",
       "      <td>119.66</td>\n",
       "      <td>0.0</td>\n",
       "    </tr>\n",
       "    <tr>\n",
       "      <td>2</td>\n",
       "      <td>2400</td>\n",
       "      <td>2400</td>\n",
       "      <td>2400.0</td>\n",
       "      <td>36 months</td>\n",
       "      <td>15.96%</td>\n",
       "      <td>84.33</td>\n",
       "      <td>C</td>\n",
       "      <td>C5</td>\n",
       "      <td>10+ years</td>\n",
       "      <td>RENT</td>\n",
       "      <td>...</td>\n",
       "      <td>10</td>\n",
       "      <td>3005.666844</td>\n",
       "      <td>3005.67</td>\n",
       "      <td>2400.00</td>\n",
       "      <td>605.67</td>\n",
       "      <td>0.00</td>\n",
       "      <td>0.00</td>\n",
       "      <td>0.00</td>\n",
       "      <td>649.91</td>\n",
       "      <td>0.0</td>\n",
       "    </tr>\n",
       "    <tr>\n",
       "      <td>3</td>\n",
       "      <td>10000</td>\n",
       "      <td>10000</td>\n",
       "      <td>10000.0</td>\n",
       "      <td>36 months</td>\n",
       "      <td>13.49%</td>\n",
       "      <td>339.31</td>\n",
       "      <td>C</td>\n",
       "      <td>C1</td>\n",
       "      <td>10+ years</td>\n",
       "      <td>RENT</td>\n",
       "      <td>...</td>\n",
       "      <td>37</td>\n",
       "      <td>12231.890000</td>\n",
       "      <td>12231.89</td>\n",
       "      <td>10000.00</td>\n",
       "      <td>2214.92</td>\n",
       "      <td>16.97</td>\n",
       "      <td>0.00</td>\n",
       "      <td>0.00</td>\n",
       "      <td>357.48</td>\n",
       "      <td>0.0</td>\n",
       "    </tr>\n",
       "    <tr>\n",
       "      <td>5</td>\n",
       "      <td>5000</td>\n",
       "      <td>5000</td>\n",
       "      <td>5000.0</td>\n",
       "      <td>36 months</td>\n",
       "      <td>7.90%</td>\n",
       "      <td>156.46</td>\n",
       "      <td>A</td>\n",
       "      <td>A4</td>\n",
       "      <td>3 years</td>\n",
       "      <td>RENT</td>\n",
       "      <td>...</td>\n",
       "      <td>12</td>\n",
       "      <td>5632.210000</td>\n",
       "      <td>5632.21</td>\n",
       "      <td>5000.00</td>\n",
       "      <td>632.21</td>\n",
       "      <td>0.00</td>\n",
       "      <td>0.00</td>\n",
       "      <td>0.00</td>\n",
       "      <td>161.03</td>\n",
       "      <td>0.0</td>\n",
       "    </tr>\n",
       "  </tbody>\n",
       "</table>\n",
       "<p>5 rows × 33 columns</p>\n",
       "</div>"
      ],
      "text/plain": [
       "   loan_amnt  funded_amnt  funded_amnt_inv        term int_rate  installment  \\\n",
       "0       5000         5000           4975.0   36 months   10.65%       162.87   \n",
       "1       2500         2500           2500.0   60 months   15.27%        59.83   \n",
       "2       2400         2400           2400.0   36 months   15.96%        84.33   \n",
       "3      10000        10000          10000.0   36 months   13.49%       339.31   \n",
       "5       5000         5000           5000.0   36 months    7.90%       156.46   \n",
       "\n",
       "  grade sub_grade emp_length home_ownership  ...  total_acc   total_pymnt  \\\n",
       "0     B        B2  10+ years           RENT  ...          9   5863.155187   \n",
       "1     C        C4   < 1 year           RENT  ...          4   1008.710000   \n",
       "2     C        C5  10+ years           RENT  ...         10   3005.666844   \n",
       "3     C        C1  10+ years           RENT  ...         37  12231.890000   \n",
       "5     A        A4    3 years           RENT  ...         12   5632.210000   \n",
       "\n",
       "  total_pymnt_inv total_rec_prncp total_rec_int total_rec_late_fee  \\\n",
       "0         5833.84         5000.00        863.16               0.00   \n",
       "1         1008.71          456.46        435.17               0.00   \n",
       "2         3005.67         2400.00        605.67               0.00   \n",
       "3        12231.89        10000.00       2214.92              16.97   \n",
       "5         5632.21         5000.00        632.21               0.00   \n",
       "\n",
       "   recoveries  collection_recovery_fee last_pymnt_amnt  pub_rec_bankruptcies  \n",
       "0        0.00                     0.00          171.62                   0.0  \n",
       "1      117.08                     1.11          119.66                   0.0  \n",
       "2        0.00                     0.00          649.91                   0.0  \n",
       "3        0.00                     0.00          357.48                   0.0  \n",
       "5        0.00                     0.00          161.03                   0.0  \n",
       "\n",
       "[5 rows x 33 columns]"
      ]
     },
     "execution_count": 23,
     "metadata": {},
     "output_type": "execute_result"
    }
   ],
   "source": [
    "data.head()"
   ]
  },
  {
   "cell_type": "markdown",
   "metadata": {},
   "source": [
    "## lets clean categorical columns to encode numerical values "
   ]
  },
  {
   "cell_type": "markdown",
   "metadata": {},
   "source": [
    "columns with object types are most likely to be categorical and we want extract a metric out of it. Where too many categorical values are present"
   ]
  },
  {
   "cell_type": "code",
   "execution_count": 24,
   "metadata": {},
   "outputs": [
    {
     "data": {
      "text/plain": [
       "['term',\n",
       " 'int_rate',\n",
       " 'grade',\n",
       " 'sub_grade',\n",
       " 'emp_length',\n",
       " 'home_ownership',\n",
       " 'verification_status',\n",
       " 'issue_d',\n",
       " 'loan_status',\n",
       " 'purpose',\n",
       " 'addr_state',\n",
       " 'earliest_cr_line']"
      ]
     },
     "execution_count": 24,
     "metadata": {},
     "output_type": "execute_result"
    }
   ],
   "source": [
    "#columns with object data type and they contain categorical data and we need to clean it properly\n",
    "dtype_obj"
   ]
  },
  {
   "cell_type": "code",
   "execution_count": 25,
   "metadata": {},
   "outputs": [
    {
     "data": {
      "text/html": [
       "<div>\n",
       "<style scoped>\n",
       "    .dataframe tbody tr th:only-of-type {\n",
       "        vertical-align: middle;\n",
       "    }\n",
       "\n",
       "    .dataframe tbody tr th {\n",
       "        vertical-align: top;\n",
       "    }\n",
       "\n",
       "    .dataframe thead th {\n",
       "        text-align: right;\n",
       "    }\n",
       "</style>\n",
       "<table border=\"1\" class=\"dataframe\">\n",
       "  <thead>\n",
       "    <tr style=\"text-align: right;\">\n",
       "      <th></th>\n",
       "      <th>term</th>\n",
       "      <th>int_rate</th>\n",
       "      <th>grade</th>\n",
       "      <th>sub_grade</th>\n",
       "      <th>emp_length</th>\n",
       "      <th>home_ownership</th>\n",
       "      <th>verification_status</th>\n",
       "      <th>issue_d</th>\n",
       "      <th>loan_status</th>\n",
       "      <th>purpose</th>\n",
       "      <th>addr_state</th>\n",
       "      <th>earliest_cr_line</th>\n",
       "    </tr>\n",
       "  </thead>\n",
       "  <tbody>\n",
       "    <tr>\n",
       "      <td>0</td>\n",
       "      <td>36 months</td>\n",
       "      <td>10.65%</td>\n",
       "      <td>B</td>\n",
       "      <td>B2</td>\n",
       "      <td>10+ years</td>\n",
       "      <td>RENT</td>\n",
       "      <td>Verified</td>\n",
       "      <td>Dec-11</td>\n",
       "      <td>Fully Paid</td>\n",
       "      <td>credit_card</td>\n",
       "      <td>AZ</td>\n",
       "      <td>Jan-85</td>\n",
       "    </tr>\n",
       "    <tr>\n",
       "      <td>1</td>\n",
       "      <td>60 months</td>\n",
       "      <td>15.27%</td>\n",
       "      <td>C</td>\n",
       "      <td>C4</td>\n",
       "      <td>&lt; 1 year</td>\n",
       "      <td>RENT</td>\n",
       "      <td>Source Verified</td>\n",
       "      <td>Dec-11</td>\n",
       "      <td>Charged Off</td>\n",
       "      <td>car</td>\n",
       "      <td>GA</td>\n",
       "      <td>Apr-99</td>\n",
       "    </tr>\n",
       "    <tr>\n",
       "      <td>2</td>\n",
       "      <td>36 months</td>\n",
       "      <td>15.96%</td>\n",
       "      <td>C</td>\n",
       "      <td>C5</td>\n",
       "      <td>10+ years</td>\n",
       "      <td>RENT</td>\n",
       "      <td>Not Verified</td>\n",
       "      <td>Dec-11</td>\n",
       "      <td>Fully Paid</td>\n",
       "      <td>small_business</td>\n",
       "      <td>IL</td>\n",
       "      <td>Nov-01</td>\n",
       "    </tr>\n",
       "    <tr>\n",
       "      <td>3</td>\n",
       "      <td>36 months</td>\n",
       "      <td>13.49%</td>\n",
       "      <td>C</td>\n",
       "      <td>C1</td>\n",
       "      <td>10+ years</td>\n",
       "      <td>RENT</td>\n",
       "      <td>Source Verified</td>\n",
       "      <td>Dec-11</td>\n",
       "      <td>Fully Paid</td>\n",
       "      <td>other</td>\n",
       "      <td>CA</td>\n",
       "      <td>Feb-96</td>\n",
       "    </tr>\n",
       "    <tr>\n",
       "      <td>5</td>\n",
       "      <td>36 months</td>\n",
       "      <td>7.90%</td>\n",
       "      <td>A</td>\n",
       "      <td>A4</td>\n",
       "      <td>3 years</td>\n",
       "      <td>RENT</td>\n",
       "      <td>Source Verified</td>\n",
       "      <td>Dec-11</td>\n",
       "      <td>Fully Paid</td>\n",
       "      <td>wedding</td>\n",
       "      <td>AZ</td>\n",
       "      <td>Nov-04</td>\n",
       "    </tr>\n",
       "  </tbody>\n",
       "</table>\n",
       "</div>"
      ],
      "text/plain": [
       "         term int_rate grade sub_grade emp_length home_ownership  \\\n",
       "0   36 months   10.65%     B        B2  10+ years           RENT   \n",
       "1   60 months   15.27%     C        C4   < 1 year           RENT   \n",
       "2   36 months   15.96%     C        C5  10+ years           RENT   \n",
       "3   36 months   13.49%     C        C1  10+ years           RENT   \n",
       "5   36 months    7.90%     A        A4    3 years           RENT   \n",
       "\n",
       "  verification_status issue_d  loan_status         purpose addr_state  \\\n",
       "0            Verified  Dec-11   Fully Paid     credit_card         AZ   \n",
       "1     Source Verified  Dec-11  Charged Off             car         GA   \n",
       "2        Not Verified  Dec-11   Fully Paid  small_business         IL   \n",
       "3     Source Verified  Dec-11   Fully Paid           other         CA   \n",
       "5     Source Verified  Dec-11   Fully Paid         wedding         AZ   \n",
       "\n",
       "  earliest_cr_line  \n",
       "0           Jan-85  \n",
       "1           Apr-99  \n",
       "2           Nov-01  \n",
       "3           Feb-96  \n",
       "5           Nov-04  "
      ]
     },
     "execution_count": 25,
     "metadata": {},
     "output_type": "execute_result"
    }
   ],
   "source": [
    "data[dtype_obj].head()"
   ]
  },
  {
   "cell_type": "code",
   "execution_count": 26,
   "metadata": {},
   "outputs": [],
   "source": [
    "#since term is given in months I think we can numeric values to work than objecct \n",
    "data.term=data.term.apply(lambda x:x.split()[0])"
   ]
  },
  {
   "cell_type": "code",
   "execution_count": 27,
   "metadata": {},
   "outputs": [],
   "source": [
    "# making intrest as int since we want a better idea than digging deep\n",
    "data.int_rate=data.int_rate.apply(lambda x:x.split('.')[0])"
   ]
  },
  {
   "cell_type": "code",
   "execution_count": 28,
   "metadata": {},
   "outputs": [],
   "source": [
    "#emp_length is given in years So I wanted to remove that years in every element for sanity\n",
    "import re \n",
    "def extract(x):\n",
    "    num=0\n",
    "    if type(x)==float:\n",
    "        return x\n",
    "    for i in x:\n",
    "        if i.isdigit():\n",
    "            num=num+int(i)\n",
    "            num=num*10\n",
    "    return num//10\n",
    "            \n",
    "    \n",
    "data.emp_length=data.emp_length.apply(lambda x:extract(x))"
   ]
  },
  {
   "cell_type": "code",
   "execution_count": 29,
   "metadata": {},
   "outputs": [],
   "source": [
    "# just wanted to decrease categories from months-year to month\n",
    "data.issue_d=data.issue_d.apply(lambda x:x.split('-')[0])"
   ]
  },
  {
   "cell_type": "code",
   "execution_count": 30,
   "metadata": {},
   "outputs": [
    {
     "name": "stdout",
     "output_type": "stream",
     "text": [
      "there are  14  types of cateogries in purpose column\n",
      "thats fine since we have more than 35k examples and 12 categories\n"
     ]
    }
   ],
   "source": [
    "print(\"there are \",len(data.purpose.unique()),\" types of cateogries in purpose column\")\n",
    "print(\"thats fine since we have more than 35k examples and 12 categories\")"
   ]
  },
  {
   "cell_type": "code",
   "execution_count": 31,
   "metadata": {},
   "outputs": [],
   "source": [
    "data.earliest_cr_line=data.earliest_cr_line.apply(lambda x:x.split('-')[0])"
   ]
  },
  {
   "cell_type": "code",
   "execution_count": 32,
   "metadata": {},
   "outputs": [
    {
     "data": {
      "text/plain": [
       "(38577, 33)"
      ]
     },
     "execution_count": 32,
     "metadata": {},
     "output_type": "execute_result"
    }
   ],
   "source": [
    "#lets see what we are  left with \n",
    "data.shape"
   ]
  },
  {
   "cell_type": "code",
   "execution_count": 33,
   "metadata": {},
   "outputs": [],
   "source": [
    "loan=data.copy()"
   ]
  },
  {
   "cell_type": "markdown",
   "metadata": {},
   "source": [
    "## Univariate analysis"
   ]
  },
  {
   "cell_type": "code",
   "execution_count": 34,
   "metadata": {
    "collapsed": true
   },
   "outputs": [
    {
     "name": "stdout",
     "output_type": "stream",
     "text": [
      "*********************************************************************\n",
      "0\n",
      "loan_amnt\n",
      "The listed amount of the loan applied for by the borrower. If at some point in time, the credit department reduces the loan amount, then it will be reflected in this value.\n",
      "count    38577.000000\n",
      "mean     11047.025430\n",
      "std       7348.441646\n",
      "min        500.000000\n",
      "25%       5300.000000\n",
      "50%       9600.000000\n",
      "75%      15000.000000\n",
      "max      35000.000000\n",
      "Name: loan_amnt, dtype: float64\n",
      "Data type : float64\n"
     ]
    },
    {
     "data": {
      "image/png": "[encoded data removed]",
      "text/plain": [
       "<Figure size 432x288 with 1 Axes>"
      ]
     },
     "metadata": {
      "needs_background": "light"
     },
     "output_type": "display_data"
    },
    {
     "name": "stdout",
     "output_type": "stream",
     "text": [
      "*********************************************************************\n",
      "1\n",
      "funded_amnt\n",
      "The total amount committed to that loan at that point in time.\n",
      "count    38577.000000\n",
      "mean     10784.058506\n",
      "std       7090.306027\n",
      "min        500.000000\n",
      "25%       5200.000000\n",
      "50%       9550.000000\n",
      "75%      15000.000000\n",
      "max      35000.000000\n",
      "Name: funded_amnt, dtype: float64\n",
      "Data type : float64\n"
     ]
    },
    {
     "data": {
      "image/png": "[encoded data removed]",
      "text/plain": [
       "<Figure size 432x288 with 1 Axes>"
      ]
     },
     "metadata": {
      "needs_background": "light"
     },
     "output_type": "display_data"
    },
    {
     "name": "stdout",
     "output_type": "stream",
     "text": [
      "*********************************************************************\n",
      "2\n",
      "funded_amnt_inv\n",
      "The total amount committed by investors for that loan at that point in time.\n",
      "count    38577.000000\n",
      "mean     10222.481123\n",
      "std       7022.720644\n",
      "min          0.000000\n",
      "25%       5000.000000\n",
      "50%       8733.440000\n",
      "75%      14000.000000\n",
      "max      35000.000000\n",
      "Name: funded_amnt_inv, dtype: float64\n",
      "Data type : float64\n"
     ]
    },
    {
     "data": {
      "image/png": "[encoded data removed]",
      "text/plain": [
       "<Figure size 432x288 with 1 Axes>"
      ]
     },
     "metadata": {
      "needs_background": "light"
     },
     "output_type": "display_data"
    },
    {
     "name": "stdout",
     "output_type": "stream",
     "text": [
      "*********************************************************************\n",
      "3\n",
      "TERM\n",
      "The number of payments on the loan. Values are in months and can be either 36 or 60.\n",
      "count     38577\n",
      "unique        2\n",
      "top          36\n",
      "freq      29096\n",
      "Name: term, dtype: object\n",
      "UNIQUE VALUES : ['36', '60']\n"
     ]
    },
    {
     "data": {
      "image/png": "[encoded data removed]",
      "text/plain": [
       "<Figure size 432x288 with 1 Axes>"
      ]
     },
     "metadata": {
      "needs_background": "light"
     },
     "output_type": "display_data"
    },
    {
     "name": "stdout",
     "output_type": "stream",
     "text": [
      "*********************************************************************\n",
      "4\n",
      "INT_RATE\n",
      "Interest Rate on the loan\n",
      "count     38577\n",
      "unique       20\n",
      "top          11\n",
      "freq       4337\n",
      "Name: int_rate, dtype: object\n",
      "UNIQUE VALUES : ['10', '15', '13', '7', '18', '21', '12', '14', '9', '16', '6', '11', '8', '19', '17', '20', '23', '22', '24', '5']\n"
     ]
    },
    {
     "data": {
      "image/png": "[encoded data removed]",
      "text/plain": [
       "<Figure size 432x288 with 1 Axes>"
      ]
     },
     "metadata": {
      "needs_background": "light"
     },
     "output_type": "display_data"
    },
    {
     "name": "stdout",
     "output_type": "stream",
     "text": [
      "*********************************************************************\n",
      "5\n",
      "installment\n",
      "The monthly payment owed by the borrower if the loan originates.\n",
      "count    38577.000000\n",
      "mean       322.466318\n",
      "std        208.639215\n",
      "min         15.690000\n",
      "25%        165.740000\n",
      "50%        277.860000\n",
      "75%        425.550000\n",
      "max       1305.190000\n",
      "Name: installment, dtype: float64\n",
      "Data type : float64\n"
     ]
    },
    {
     "data": {
      "image/png": "[encoded data removed]",
      "text/plain": [
       "<Figure size 432x288 with 1 Axes>"
      ]
     },
     "metadata": {
      "needs_background": "light"
     },
     "output_type": "display_data"
    },
    {
     "name": "stdout",
     "output_type": "stream",
     "text": [
      "*********************************************************************\n",
      "6\n",
      "GRADE\n",
      "LC assigned loan grade\n",
      "count     38577\n",
      "unique        7\n",
      "top           B\n",
      "freq      11675\n",
      "Name: grade, dtype: object\n",
      "UNIQUE VALUES : ['B', 'C', 'A', 'E', 'F', 'D', 'G']\n"
     ]
    },
    {
     "data": {
      "image/png": "[encoded data removed]",
      "text/plain": [
       "<Figure size 432x288 with 1 Axes>"
      ]
     },
     "metadata": {
      "needs_background": "light"
     },
     "output_type": "display_data"
    },
    {
     "name": "stdout",
     "output_type": "stream",
     "text": [
      "*********************************************************************\n",
      "7\n",
      "SUB_GRADE\n",
      "LC assigned loan subgrade\n",
      "count     38577\n",
      "unique       35\n",
      "top          A4\n",
      "freq       2873\n",
      "Name: sub_grade, dtype: object\n",
      "UNIQUE VALUES : ['B2', 'C4', 'C5', 'C1', 'A4', 'E1', 'F2', 'B5', 'C3', 'B1', 'D1', 'A1', 'B3', 'B4', 'C2', 'D2', 'A3', 'A5', 'D5', 'A2', 'E4', 'D3', 'D4', 'F3', 'E3', 'F1', 'E5', 'G4', 'E2', 'G2', 'G1', 'F5', 'F4', 'G5', 'G3']\n"
     ]
    },
    {
     "data": {
      "image/png": "[encoded data removed]",
      "text/plain": [
       "<Figure size 432x288 with 1 Axes>"
      ]
     },
     "metadata": {
      "needs_background": "light"
     },
     "output_type": "display_data"
    },
    {
     "name": "stdout",
     "output_type": "stream",
     "text": [
      "*********************************************************************\n",
      "8\n",
      "emp_length\n",
      "Employment length in years. Possible values are between 0 and 10 where 0 means less than one year and 10 means ten or more years. \n",
      "count    37544.000000\n",
      "mean         5.061048\n",
      "std          3.401750\n",
      "min          1.000000\n",
      "25%          2.000000\n",
      "50%          4.000000\n",
      "75%          9.000000\n",
      "max         10.000000\n",
      "Name: emp_length, dtype: float64\n",
      "Data type : float64\n"
     ]
    },
    {
     "name": "stderr",
     "output_type": "stream",
     "text": [
      "C:\\ProgramData\\Anaconda3\\lib\\site-packages\\numpy\\lib\\histograms.py:824: RuntimeWarning: invalid value encountered in greater_equal\n",
      "  keep = (tmp_a >= first_edge)\n",
      "C:\\ProgramData\\Anaconda3\\lib\\site-packages\\numpy\\lib\\histograms.py:825: RuntimeWarning: invalid value encountered in less_equal\n",
      "  keep &= (tmp_a <= last_edge)\n"
     ]
    },
    {
     "data": {
      "image/png": "[encoded data removed]",
      "text/plain": [
       "<Figure size 432x288 with 1 Axes>"
      ]
     },
     "metadata": {
      "needs_background": "light"
     },
     "output_type": "display_data"
    },
    {
     "name": "stdout",
     "output_type": "stream",
     "text": [
      "*********************************************************************\n",
      "9\n",
      "HOME_OWNERSHIP\n",
      "The home ownership status provided by the borrower during registration. Our values are: RENT, OWN, MORTGAGE, OTHER.\n",
      "count     38577\n",
      "unique        5\n",
      "top        RENT\n",
      "freq      18480\n",
      "Name: home_ownership, dtype: object\n",
      "UNIQUE VALUES : ['RENT', 'OWN', 'MORTGAGE', 'OTHER', 'NONE']\n"
     ]
    },
    {
     "data": {
      "image/png": "[encoded data removed]",
      "text/plain": [
       "<Figure size 432x288 with 1 Axes>"
      ]
     },
     "metadata": {
      "needs_background": "light"
     },
     "output_type": "display_data"
    },
    {
     "name": "stdout",
     "output_type": "stream",
     "text": [
      "*********************************************************************\n",
      "10\n",
      "annual_inc\n",
      "The self-reported annual income provided by the borrower during registration.\n",
      "count    3.857700e+04\n",
      "mean     6.877797e+04\n",
      "std      6.421868e+04\n",
      "min      4.000000e+03\n",
      "25%      4.000000e+04\n",
      "50%      5.886800e+04\n",
      "75%      8.200000e+04\n",
      "max      6.000000e+06\n",
      "Name: annual_inc, dtype: float64\n",
      "Data type : float64\n"
     ]
    },
    {
     "data": {
      "image/png": "[encoded data removed]",
      "text/plain": [
       "<Figure size 432x288 with 1 Axes>"
      ]
     },
     "metadata": {
      "needs_background": "light"
     },
     "output_type": "display_data"
    },
    {
     "name": "stdout",
     "output_type": "stream",
     "text": [
      "*********************************************************************\n",
      "11\n",
      "VERIFICATION_STATUS\n",
      "Indicates if income was verified by LC, not verified, or if the income source was verified\n",
      "count            38577\n",
      "unique               3\n",
      "top       Not Verified\n",
      "freq             16694\n",
      "Name: verification_status, dtype: object\n",
      "UNIQUE VALUES : ['Verified', 'Source Verified', 'Not Verified']\n"
     ]
    },
    {
     "data": {
      "image/png": "[encoded data removed]",
      "text/plain": [
       "<Figure size 432x288 with 1 Axes>"
      ]
     },
     "metadata": {
      "needs_background": "light"
     },
     "output_type": "display_data"
    },
    {
     "name": "stdout",
     "output_type": "stream",
     "text": [
      "*********************************************************************\n",
      "12\n",
      "ISSUE_D\n",
      "The month which the loan was funded\n",
      "count     38577\n",
      "unique       12\n",
      "top         Dec\n",
      "freq       4215\n",
      "Name: issue_d, dtype: object\n",
      "UNIQUE VALUES : ['Dec', 'Nov', 'Oct', 'Sep', 'Aug', 'Jul', 'Jun', 'May', 'Apr', 'Mar', 'Feb', 'Jan']\n"
     ]
    },
    {
     "data": {
      "image/png": "[encoded data removed]",
      "text/plain": [
       "<Figure size 432x288 with 1 Axes>"
      ]
     },
     "metadata": {
      "needs_background": "light"
     },
     "output_type": "display_data"
    },
    {
     "name": "stdout",
     "output_type": "stream",
     "text": [
      "*********************************************************************\n",
      "13\n",
      "LOAN_STATUS\n",
      "Current status of the loan\n",
      "count          38577\n",
      "unique             2\n",
      "top       Fully Paid\n",
      "freq           32950\n",
      "Name: loan_status, dtype: object\n",
      "UNIQUE VALUES : ['Fully Paid', 'Charged Off']\n"
     ]
    },
    {
     "data": {
      "image/png": "[encoded data removed]",
      "text/plain": [
       "<Figure size 432x288 with 1 Axes>"
      ]
     },
     "metadata": {
      "needs_background": "light"
     },
     "output_type": "display_data"
    },
    {
     "name": "stdout",
     "output_type": "stream",
     "text": [
      "*********************************************************************\n",
      "14\n",
      "PURPOSE\n",
      "A category provided by the borrower for the loan request. \n",
      "count                  38577\n",
      "unique                    14\n",
      "top       debt_consolidation\n",
      "freq                   18055\n",
      "Name: purpose, dtype: object\n",
      "UNIQUE VALUES : ['credit_card', 'car', 'small_business', 'other', 'wedding', 'debt_consolidation', 'home_improvement', 'major_purchase', 'medical', 'moving', 'vacation', 'house', 'renewable_energy', 'educational']\n"
     ]
    },
    {
     "data": {
      "image/png": "[encoded data removed]",
      "text/plain": [
       "<Figure size 432x288 with 1 Axes>"
      ]
     },
     "metadata": {
      "needs_background": "light"
     },
     "output_type": "display_data"
    },
    {
     "name": "stdout",
     "output_type": "stream",
     "text": [
      "*********************************************************************\n",
      "15\n",
      "ADDR_STATE\n",
      "The state provided by the borrower in the loan application\n",
      "count     38577\n",
      "unique       50\n",
      "top          CA\n",
      "freq       6949\n",
      "Name: addr_state, dtype: object\n",
      "UNIQUE VALUES : ['AZ', 'GA', 'IL', 'CA', 'NC', 'TX', 'VA', 'MO', 'CT', 'UT', 'FL', 'NY', 'PA', 'MN', 'NJ', 'OR', 'KY', 'OH', 'SC', 'RI', 'LA', 'MA', 'WA', 'WI', 'AL', 'NV', 'AK', 'CO', 'MD', 'WV', 'VT', 'MI', 'DC', 'SD', 'NH', 'AR', 'NM', 'KS', 'HI', 'OK', 'MT', 'WY', 'DE', 'MS', 'TN', 'IA', 'NE', 'ID', 'IN', 'ME']\n"
     ]
    },
    {
     "data": {
      "image/png": "[encoded data removed]",
      "text/plain": [
       "<Figure size 432x288 with 1 Axes>"
      ]
     },
     "metadata": {
      "needs_background": "light"
     },
     "output_type": "display_data"
    },
    {
     "name": "stdout",
     "output_type": "stream",
     "text": [
      "*********************************************************************\n",
      "16\n",
      "dti\n",
      "A ratio calculated using the borrower’s total monthly debt payments on the total debt obligations, excluding mortgage and the requested LC loan, divided by the borrower’s self-reported monthly income.\n",
      "count    38577.000000\n",
      "mean        13.272727\n",
      "std          6.673044\n",
      "min          0.000000\n",
      "25%          8.130000\n",
      "50%         13.370000\n",
      "75%         18.560000\n",
      "max         29.990000\n",
      "Name: dti, dtype: float64\n",
      "Data type : float64\n"
     ]
    },
    {
     "data": {
      "image/png": "[encoded data removed]",
      "text/plain": [
       "<Figure size 432x288 with 1 Axes>"
      ]
     },
     "metadata": {
      "needs_background": "light"
     },
     "output_type": "display_data"
    },
    {
     "name": "stdout",
     "output_type": "stream",
     "text": [
      "*********************************************************************\n",
      "17\n",
      "delinq_2yrs\n",
      "The number of 30+ days past-due incidences of delinquency in the borrower's credit file for the past 2 years\n",
      "count    38577.000000\n",
      "mean         0.146668\n",
      "std          0.492271\n",
      "min          0.000000\n",
      "25%          0.000000\n",
      "50%          0.000000\n",
      "75%          0.000000\n",
      "max         11.000000\n",
      "Name: delinq_2yrs, dtype: float64\n",
      "Data type : float64\n"
     ]
    },
    {
     "data": {
      "image/png": "[encoded data removed]",
      "text/plain": [
       "<Figure size 432x288 with 1 Axes>"
      ]
     },
     "metadata": {
      "needs_background": "light"
     },
     "output_type": "display_data"
    },
    {
     "name": "stdout",
     "output_type": "stream",
     "text": [
      "*********************************************************************\n",
      "18\n",
      "EARLIEST_CR_LINE\n",
      "The month the borrower's earliest reported credit line was opened\n",
      "count     38577\n",
      "unique       12\n",
      "top         Oct\n",
      "freq       3967\n",
      "Name: earliest_cr_line, dtype: object\n",
      "UNIQUE VALUES : ['Jan', 'Apr', 'Nov', 'Feb', 'Jul', 'Sep', 'Oct', 'May', 'Aug', 'Jun', 'Dec', 'Mar']\n"
     ]
    },
    {
     "data": {
      "image/png": "[encoded data removed]",
      "text/plain": [
       "<Figure size 432x288 with 1 Axes>"
      ]
     },
     "metadata": {
      "needs_background": "light"
     },
     "output_type": "display_data"
    },
    {
     "name": "stdout",
     "output_type": "stream",
     "text": [
      "*********************************************************************\n",
      "19\n",
      "inq_last_6mths\n",
      "The number of inquiries in past 6 months (excluding auto and mortgage inquiries)\n",
      "count    38577.000000\n",
      "mean         0.871737\n",
      "std          1.071546\n",
      "min          0.000000\n",
      "25%          0.000000\n",
      "50%          1.000000\n",
      "75%          1.000000\n",
      "max          8.000000\n",
      "Name: inq_last_6mths, dtype: float64\n",
      "Data type : float64\n"
     ]
    },
    {
     "data": {
      "image/png": "[encoded data removed]",
      "text/plain": [
       "<Figure size 432x288 with 1 Axes>"
      ]
     },
     "metadata": {
      "needs_background": "light"
     },
     "output_type": "display_data"
    },
    {
     "name": "stdout",
     "output_type": "stream",
     "text": [
      "*********************************************************************\n",
      "20\n",
      "open_acc\n",
      "The number of open credit lines in the borrower's credit file.\n",
      "count    38577.000000\n",
      "mean         9.275423\n",
      "std          4.401588\n",
      "min          2.000000\n",
      "25%          6.000000\n",
      "50%          9.000000\n",
      "75%         12.000000\n",
      "max         44.000000\n",
      "Name: open_acc, dtype: float64\n",
      "Data type : float64\n"
     ]
    },
    {
     "data": {
      "image/png": "[encoded data removed]",
      "text/plain": [
       "<Figure size 432x288 with 1 Axes>"
      ]
     },
     "metadata": {
      "needs_background": "light"
     },
     "output_type": "display_data"
    },
    {
     "name": "stdout",
     "output_type": "stream",
     "text": [
      "*********************************************************************\n",
      "21\n",
      "pub_rec\n",
      "Number of derogatory public records\n",
      "count    38577.000000\n",
      "mean         0.055422\n",
      "std          0.237804\n",
      "min          0.000000\n",
      "25%          0.000000\n",
      "50%          0.000000\n",
      "75%          0.000000\n",
      "max          4.000000\n",
      "Name: pub_rec, dtype: float64\n",
      "Data type : float64\n"
     ]
    },
    {
     "data": {
      "image/png": "[encoded data removed]",
      "text/plain": [
       "<Figure size 432x288 with 1 Axes>"
      ]
     },
     "metadata": {
      "needs_background": "light"
     },
     "output_type": "display_data"
    },
    {
     "name": "stdout",
     "output_type": "stream",
     "text": [
      "*********************************************************************\n",
      "22\n",
      "revol_bal\n",
      "Total credit revolving balance\n",
      "count     38577.000000\n",
      "mean      13289.489826\n",
      "std       15866.492241\n",
      "min           0.000000\n",
      "25%        3650.000000\n",
      "50%        8762.000000\n",
      "75%       16912.000000\n",
      "max      149588.000000\n",
      "Name: revol_bal, dtype: float64\n",
      "Data type : float64\n"
     ]
    },
    {
     "data": {
      "image/png": "[encoded data removed]",
      "text/plain": [
       "<Figure size 432x288 with 1 Axes>"
      ]
     },
     "metadata": {
      "needs_background": "light"
     },
     "output_type": "display_data"
    },
    {
     "name": "stdout",
     "output_type": "stream",
     "text": [
      "*********************************************************************\n",
      "23\n",
      "total_acc\n",
      "The total number of credit lines currently in the borrower's credit file\n",
      "count    38577.000000\n",
      "mean        22.052648\n",
      "std         11.425861\n",
      "min          2.000000\n",
      "25%         13.000000\n",
      "50%         20.000000\n",
      "75%         29.000000\n",
      "max         90.000000\n",
      "Name: total_acc, dtype: float64\n",
      "Data type : float64\n"
     ]
    },
    {
     "data": {
      "image/png": "[encoded data removed]",
      "text/plain": [
       "<Figure size 432x288 with 1 Axes>"
      ]
     },
     "metadata": {
      "needs_background": "light"
     },
     "output_type": "display_data"
    },
    {
     "name": "stdout",
     "output_type": "stream",
     "text": [
      "*********************************************************************\n",
      "24\n",
      "total_pymnt\n",
      "Payments received to date for total amount funded\n",
      "count    38577.000000\n",
      "mean     11866.970365\n",
      "std       8809.856227\n",
      "min          0.000000\n",
      "25%       5513.497338\n",
      "50%       9674.048405\n",
      "75%      16136.952430\n",
      "max      58563.679930\n",
      "Name: total_pymnt, dtype: float64\n",
      "Data type : float64\n"
     ]
    },
    {
     "data": {
      "image/png": "[encoded data removed]",
      "text/plain": [
       "<Figure size 432x288 with 1 Axes>"
      ]
     },
     "metadata": {
      "needs_background": "light"
     },
     "output_type": "display_data"
    },
    {
     "name": "stdout",
     "output_type": "stream",
     "text": [
      "*********************************************************************\n",
      "25\n",
      "total_pymnt_inv\n",
      "Payments received to date for portion of total amount funded by investors\n",
      "count    38577.000000\n",
      "mean     11271.196153\n",
      "std       8700.845592\n",
      "min          0.000000\n",
      "25%       5019.590000\n",
      "50%       9066.660000\n",
      "75%      15329.780000\n",
      "max      58563.680000\n",
      "Name: total_pymnt_inv, dtype: float64\n",
      "Data type : float64\n"
     ]
    },
    {
     "data": {
      "image/png": "[encoded data removed]",
      "text/plain": [
       "<Figure size 432x288 with 1 Axes>"
      ]
     },
     "metadata": {
      "needs_background": "light"
     },
     "output_type": "display_data"
    },
    {
     "name": "stdout",
     "output_type": "stream",
     "text": [
      "*********************************************************************\n",
      "26\n",
      "total_rec_prncp\n",
      "Principal received to date\n",
      "count    38577.000000\n",
      "mean      9648.322898\n",
      "std       7009.381200\n",
      "min          0.000000\n",
      "25%       4500.000000\n",
      "50%       8000.000000\n",
      "75%      13175.000000\n",
      "max      35000.020000\n",
      "Name: total_rec_prncp, dtype: float64\n",
      "Data type : float64\n"
     ]
    },
    {
     "data": {
      "image/png": "[encoded data removed]",
      "text/plain": [
       "<Figure size 432x288 with 1 Axes>"
      ]
     },
     "metadata": {
      "needs_background": "light"
     },
     "output_type": "display_data"
    },
    {
     "name": "stdout",
     "output_type": "stream",
     "text": [
      "*********************************************************************\n",
      "27\n",
      "total_rec_int\n",
      "Interest received to date\n",
      "count    38577.000000\n",
      "mean      2119.243370\n",
      "std       2389.499511\n",
      "min          0.000000\n",
      "25%        643.990000\n",
      "50%       1300.450000\n",
      "75%       2671.980000\n",
      "max      23563.680000\n",
      "Name: total_rec_int, dtype: float64\n",
      "Data type : float64\n"
     ]
    },
    {
     "data": {
      "image/png": "[encoded data removed]",
      "text/plain": [
       "<Figure size 432x288 with 1 Axes>"
      ]
     },
     "metadata": {
      "needs_background": "light"
     },
     "output_type": "display_data"
    },
    {
     "name": "stdout",
     "output_type": "stream",
     "text": [
      "*********************************************************************\n",
      "28\n",
      "total_rec_late_fee\n",
      "Late fees received to date\n",
      "count    38577.000000\n",
      "mean         1.368634\n",
      "std          7.315880\n",
      "min          0.000000\n",
      "25%          0.000000\n",
      "50%          0.000000\n",
      "75%          0.000000\n",
      "max        180.200000\n",
      "Name: total_rec_late_fee, dtype: float64\n",
      "Data type : float64\n"
     ]
    },
    {
     "data": {
      "image/png": "[encoded data removed]",
      "text/plain": [
       "<Figure size 432x288 with 1 Axes>"
      ]
     },
     "metadata": {
      "needs_background": "light"
     },
     "output_type": "display_data"
    },
    {
     "name": "stdout",
     "output_type": "stream",
     "text": [
      "*********************************************************************\n",
      "29\n",
      "recoveries\n",
      "post charge off gross recovery\n",
      "count    38577.000000\n",
      "mean        98.035545\n",
      "std        698.650182\n",
      "min          0.000000\n",
      "25%          0.000000\n",
      "50%          0.000000\n",
      "75%          0.000000\n",
      "max      29623.350000\n",
      "Name: recoveries, dtype: float64\n",
      "Data type : float64\n"
     ]
    },
    {
     "data": {
      "image/png": "[encoded data removed]",
      "text/plain": [
       "<Figure size 432x288 with 1 Axes>"
      ]
     },
     "metadata": {
      "needs_background": "light"
     },
     "output_type": "display_data"
    },
    {
     "name": "stdout",
     "output_type": "stream",
     "text": [
      "*********************************************************************\n",
      "30\n",
      "collection_recovery_fee\n",
      "post charge off collection fee\n",
      "count    38577.000000\n",
      "mean        12.772728\n",
      "std        150.836853\n",
      "min          0.000000\n",
      "25%          0.000000\n",
      "50%          0.000000\n",
      "75%          0.000000\n",
      "max       7002.190000\n",
      "Name: collection_recovery_fee, dtype: float64\n",
      "Data type : float64\n"
     ]
    },
    {
     "data": {
      "image/png": "[encoded data removed]",
      "text/plain": [
       "<Figure size 432x288 with 1 Axes>"
      ]
     },
     "metadata": {
      "needs_background": "light"
     },
     "output_type": "display_data"
    },
    {
     "name": "stdout",
     "output_type": "stream",
     "text": [
      "*********************************************************************\n",
      "31\n",
      "last_pymnt_amnt\n",
      "Last total payment amount received\n",
      "count    38577.000000\n",
      "mean      2746.243218\n",
      "std       4494.648131\n",
      "min          0.000000\n",
      "25%        217.420000\n",
      "50%        568.260000\n",
      "75%       3447.250000\n",
      "max      36115.200000\n",
      "Name: last_pymnt_amnt, dtype: float64\n",
      "Data type : float64\n"
     ]
    },
    {
     "data": {
      "image/png": "[encoded data removed]",
      "text/plain": [
       "<Figure size 432x288 with 1 Axes>"
      ]
     },
     "metadata": {
      "needs_background": "light"
     },
     "output_type": "display_data"
    },
    {
     "name": "stdout",
     "output_type": "stream",
     "text": [
      "*********************************************************************\n",
      "32\n",
      "pub_rec_bankruptcies\n",
      "Number of public record bankruptcies\n",
      "count    38577.000000\n",
      "mean         0.042694\n",
      "std          0.202809\n",
      "min          0.000000\n",
      "25%          0.000000\n",
      "50%          0.000000\n",
      "75%          0.000000\n",
      "max          2.000000\n",
      "Name: pub_rec_bankruptcies, dtype: float64\n",
      "Data type : float64\n"
     ]
    },
    {
     "data": {
      "image/png": "[encoded data removed]",
      "text/plain": [
       "<Figure size 432x288 with 1 Axes>"
      ]
     },
     "metadata": {
      "needs_background": "light"
     },
     "output_type": "display_data"
    }
   ],
   "source": [
    "\n",
    "count=0\n",
    "for i in data.columns:\n",
    "    print(\"*********************************************************************\")\n",
    "    \n",
    "    print(count)\n",
    "    count+=1\n",
    "    if data[i].describe().dtype==object:\n",
    "        print(str.upper(i))\n",
    "        print(desc[desc['LoanStatNew']==i]['Description'].iloc[0])\n",
    "        print(data[i].describe())\n",
    "        print(\"UNIQUE VALUES :\",data[i].unique().tolist())\n",
    "        data[i].value_counts().plot(kind='bar')\n",
    "        plt.xlabel(i)\n",
    "        plt.show()\n",
    "        continue\n",
    "    if data[i].describe().dtype==float:\n",
    "        print(i)\n",
    "        print(desc[desc['LoanStatNew']==i]['Description'].iloc[0])\n",
    "        print(data[i].describe())\n",
    "        print(\"Data type :\",data[i].describe().dtype)\n",
    "        plt.hist(data[i],color='green',rwidth=5)\n",
    "        plt.xlabel(i)\n",
    "        plt.show()\n",
    "        continue\n",
    "    else:\n",
    "        print(i)\n",
    "        print(desc[desc['LoanStatNew']==i]['Description'].iloc[0])\n",
    "        print(\"Data type :\",data[i].describe().dtype)\n",
    "    "
   ]
  },
  {
   "cell_type": "markdown",
   "metadata": {},
   "source": [
    "## Bivariate analysis"
   ]
  },
  {
   "cell_type": "markdown",
   "metadata": {},
   "source": [
    "### Lets see correlation between each variable and loan_status"
   ]
  },
  {
   "cell_type": "code",
   "execution_count": 35,
   "metadata": {},
   "outputs": [
    {
     "data": {
      "text/html": [
       "<style  type=\"text/css\" >\n",
       "    #T_c44c513e_029d_11ea_98a3_848f69af4391row0_col1 {\n",
       "            background-color:  #d9d8ea;\n",
       "            color:  #000000;\n",
       "        }    #T_c44c513e_029d_11ea_98a3_848f69af4391row1_col1 {\n",
       "            background-color:  #d9d8ea;\n",
       "            color:  #000000;\n",
       "        }    #T_c44c513e_029d_11ea_98a3_848f69af4391row2_col1 {\n",
       "            background-color:  #d6d6e9;\n",
       "            color:  #000000;\n",
       "        }    #T_c44c513e_029d_11ea_98a3_848f69af4391row3_col1 {\n",
       "            background-color:  #ede7f2;\n",
       "            color:  #000000;\n",
       "        }    #T_c44c513e_029d_11ea_98a3_848f69af4391row4_col1 {\n",
       "            background-color:  #b8c6e0;\n",
       "            color:  #000000;\n",
       "        }    #T_c44c513e_029d_11ea_98a3_848f69af4391row5_col1 {\n",
       "            background-color:  #d4d4e8;\n",
       "            color:  #000000;\n",
       "        }    #T_c44c513e_029d_11ea_98a3_848f69af4391row6_col1 {\n",
       "            background-color:  #f0eaf4;\n",
       "            color:  #000000;\n",
       "        }    #T_c44c513e_029d_11ea_98a3_848f69af4391row7_col1 {\n",
       "            background-color:  #f0eaf4;\n",
       "            color:  #000000;\n",
       "        }    #T_c44c513e_029d_11ea_98a3_848f69af4391row8_col1 {\n",
       "            background-color:  #d2d3e7;\n",
       "            color:  #000000;\n",
       "        }    #T_c44c513e_029d_11ea_98a3_848f69af4391row9_col1 {\n",
       "            background-color:  #d3d4e7;\n",
       "            color:  #000000;\n",
       "        }    #T_c44c513e_029d_11ea_98a3_848f69af4391row10_col1 {\n",
       "            background-color:  #c5cce3;\n",
       "            color:  #000000;\n",
       "        }    #T_c44c513e_029d_11ea_98a3_848f69af4391row11_col1 {\n",
       "            background-color:  #d8d7e9;\n",
       "            color:  #000000;\n",
       "        }    #T_c44c513e_029d_11ea_98a3_848f69af4391row12_col1 {\n",
       "            background-color:  #d2d3e7;\n",
       "            color:  #000000;\n",
       "        }    #T_c44c513e_029d_11ea_98a3_848f69af4391row13_col1 {\n",
       "            background-color:  #023858;\n",
       "            color:  #f1f1f1;\n",
       "        }    #T_c44c513e_029d_11ea_98a3_848f69af4391row14_col1 {\n",
       "            background-color:  #d7d6e9;\n",
       "            color:  #000000;\n",
       "        }    #T_c44c513e_029d_11ea_98a3_848f69af4391row15_col1 {\n",
       "            background-color:  #c9cee4;\n",
       "            color:  #000000;\n",
       "        }    #T_c44c513e_029d_11ea_98a3_848f69af4391row16_col1 {\n",
       "            background-color:  #d7d6e9;\n",
       "            color:  #000000;\n",
       "        }    #T_c44c513e_029d_11ea_98a3_848f69af4391row17_col1 {\n",
       "            background-color:  #d2d3e7;\n",
       "            color:  #000000;\n",
       "        }    #T_c44c513e_029d_11ea_98a3_848f69af4391row18_col1 {\n",
       "            background-color:  #cacee5;\n",
       "            color:  #000000;\n",
       "        }    #T_c44c513e_029d_11ea_98a3_848f69af4391row19_col1 {\n",
       "            background-color:  #dbdaeb;\n",
       "            color:  #000000;\n",
       "        }    #T_c44c513e_029d_11ea_98a3_848f69af4391row20_col1 {\n",
       "            background-color:  #cdd0e5;\n",
       "            color:  #000000;\n",
       "        }    #T_c44c513e_029d_11ea_98a3_848f69af4391row21_col1 {\n",
       "            background-color:  #d8d7e9;\n",
       "            color:  #000000;\n",
       "        }    #T_c44c513e_029d_11ea_98a3_848f69af4391row22_col1 {\n",
       "            background-color:  #d1d2e6;\n",
       "            color:  #000000;\n",
       "        }    #T_c44c513e_029d_11ea_98a3_848f69af4391row23_col1 {\n",
       "            background-color:  #c9cee4;\n",
       "            color:  #000000;\n",
       "        }    #T_c44c513e_029d_11ea_98a3_848f69af4391row24_col1 {\n",
       "            background-color:  #91b5d6;\n",
       "            color:  #000000;\n",
       "        }    #T_c44c513e_029d_11ea_98a3_848f69af4391row25_col1 {\n",
       "            background-color:  #91b5d6;\n",
       "            color:  #000000;\n",
       "        }    #T_c44c513e_029d_11ea_98a3_848f69af4391row26_col1 {\n",
       "            background-color:  #73a9cf;\n",
       "            color:  #000000;\n",
       "        }    #T_c44c513e_029d_11ea_98a3_848f69af4391row27_col1 {\n",
       "            background-color:  #d2d2e7;\n",
       "            color:  #000000;\n",
       "        }    #T_c44c513e_029d_11ea_98a3_848f69af4391row28_col1 {\n",
       "            background-color:  #ebe6f2;\n",
       "            color:  #000000;\n",
       "        }    #T_c44c513e_029d_11ea_98a3_848f69af4391row29_col1 {\n",
       "            background-color:  #fff7fb;\n",
       "            color:  #000000;\n",
       "        }    #T_c44c513e_029d_11ea_98a3_848f69af4391row30_col1 {\n",
       "            background-color:  #f0eaf4;\n",
       "            color:  #000000;\n",
       "        }    #T_c44c513e_029d_11ea_98a3_848f69af4391row31_col1 {\n",
       "            background-color:  #94b6d7;\n",
       "            color:  #000000;\n",
       "        }    #T_c44c513e_029d_11ea_98a3_848f69af4391row32_col1 {\n",
       "            background-color:  #d8d7e9;\n",
       "            color:  #000000;\n",
       "        }</style><table id=\"T_c44c513e_029d_11ea_98a3_848f69af4391\" ><thead>    <tr>        <th class=\"blank level0\" ></th>        <th class=\"col_heading level0 col0\" >variable</th>        <th class=\"col_heading level0 col1\" >correlation with loan_status</th>        <th class=\"col_heading level0 col2\" >description</th>    </tr></thead><tbody>\n",
       "                <tr>\n",
       "                        <th id=\"T_c44c513e_029d_11ea_98a3_848f69af4391level0_row0\" class=\"row_heading level0 row0\" >1</th>\n",
       "                        <td id=\"T_c44c513e_029d_11ea_98a3_848f69af4391row0_col0\" class=\"data row0 col0\" >loan_amnt</td>\n",
       "                        <td id=\"T_c44c513e_029d_11ea_98a3_848f69af4391row0_col1\" class=\"data row0 col1\" >-0.0594626</td>\n",
       "                        <td id=\"T_c44c513e_029d_11ea_98a3_848f69af4391row0_col2\" class=\"data row0 col2\" >The listed amount of the loan applied for by the borrower. If at some point in time, the credit department reduces the loan amount, then it will be reflected in this value.</td>\n",
       "            </tr>\n",
       "            <tr>\n",
       "                        <th id=\"T_c44c513e_029d_11ea_98a3_848f69af4391level0_row1\" class=\"row_heading level0 row1\" >2</th>\n",
       "                        <td id=\"T_c44c513e_029d_11ea_98a3_848f69af4391row1_col0\" class=\"data row1 col0\" >funded_amnt</td>\n",
       "                        <td id=\"T_c44c513e_029d_11ea_98a3_848f69af4391row1_col1\" class=\"data row1 col1\" >-0.0564973</td>\n",
       "                        <td id=\"T_c44c513e_029d_11ea_98a3_848f69af4391row1_col2\" class=\"data row1 col2\" >The total amount committed to that loan at that point in time.</td>\n",
       "            </tr>\n",
       "            <tr>\n",
       "                        <th id=\"T_c44c513e_029d_11ea_98a3_848f69af4391level0_row2\" class=\"row_heading level0 row2\" >3</th>\n",
       "                        <td id=\"T_c44c513e_029d_11ea_98a3_848f69af4391row2_col0\" class=\"data row2 col0\" >funded_amnt_inv</td>\n",
       "                        <td id=\"T_c44c513e_029d_11ea_98a3_848f69af4391row2_col1\" class=\"data row2 col1\" >-0.037781</td>\n",
       "                        <td id=\"T_c44c513e_029d_11ea_98a3_848f69af4391row2_col2\" class=\"data row2 col2\" >The total amount committed by investors for that loan at that point in time.</td>\n",
       "            </tr>\n",
       "            <tr>\n",
       "                        <th id=\"T_c44c513e_029d_11ea_98a3_848f69af4391level0_row3\" class=\"row_heading level0 row3\" >4</th>\n",
       "                        <td id=\"T_c44c513e_029d_11ea_98a3_848f69af4391row3_col0\" class=\"data row3 col0\" >term</td>\n",
       "                        <td id=\"T_c44c513e_029d_11ea_98a3_848f69af4391row3_col1\" class=\"data row3 col1\" >-0.173487</td>\n",
       "                        <td id=\"T_c44c513e_029d_11ea_98a3_848f69af4391row3_col2\" class=\"data row3 col2\" >The number of payments on the loan. Values are in months and can be either 36 or 60.</td>\n",
       "            </tr>\n",
       "            <tr>\n",
       "                        <th id=\"T_c44c513e_029d_11ea_98a3_848f69af4391level0_row4\" class=\"row_heading level0 row4\" >5</th>\n",
       "                        <td id=\"T_c44c513e_029d_11ea_98a3_848f69af4391row4_col0\" class=\"data row4 col0\" >int_rate</td>\n",
       "                        <td id=\"T_c44c513e_029d_11ea_98a3_848f69af4391row4_col1\" class=\"data row4 col1\" >0.09164</td>\n",
       "                        <td id=\"T_c44c513e_029d_11ea_98a3_848f69af4391row4_col2\" class=\"data row4 col2\" >Interest Rate on the loan</td>\n",
       "            </tr>\n",
       "            <tr>\n",
       "                        <th id=\"T_c44c513e_029d_11ea_98a3_848f69af4391level0_row5\" class=\"row_heading level0 row5\" >6</th>\n",
       "                        <td id=\"T_c44c513e_029d_11ea_98a3_848f69af4391row5_col0\" class=\"data row5 col0\" >installment</td>\n",
       "                        <td id=\"T_c44c513e_029d_11ea_98a3_848f69af4391row5_col1\" class=\"data row5 col1\" >-0.0271529</td>\n",
       "                        <td id=\"T_c44c513e_029d_11ea_98a3_848f69af4391row5_col2\" class=\"data row5 col2\" >The monthly payment owed by the borrower if the loan originates.</td>\n",
       "            </tr>\n",
       "            <tr>\n",
       "                        <th id=\"T_c44c513e_029d_11ea_98a3_848f69af4391level0_row6\" class=\"row_heading level0 row6\" >7</th>\n",
       "                        <td id=\"T_c44c513e_029d_11ea_98a3_848f69af4391row6_col0\" class=\"data row6 col0\" >grade</td>\n",
       "                        <td id=\"T_c44c513e_029d_11ea_98a3_848f69af4391row6_col1\" class=\"data row6 col1\" >-0.201869</td>\n",
       "                        <td id=\"T_c44c513e_029d_11ea_98a3_848f69af4391row6_col2\" class=\"data row6 col2\" >LC assigned loan grade</td>\n",
       "            </tr>\n",
       "            <tr>\n",
       "                        <th id=\"T_c44c513e_029d_11ea_98a3_848f69af4391level0_row7\" class=\"row_heading level0 row7\" >8</th>\n",
       "                        <td id=\"T_c44c513e_029d_11ea_98a3_848f69af4391row7_col0\" class=\"data row7 col0\" >sub_grade</td>\n",
       "                        <td id=\"T_c44c513e_029d_11ea_98a3_848f69af4391row7_col1\" class=\"data row7 col1\" >-0.20532</td>\n",
       "                        <td id=\"T_c44c513e_029d_11ea_98a3_848f69af4391row7_col2\" class=\"data row7 col2\" >LC assigned loan subgrade</td>\n",
       "            </tr>\n",
       "            <tr>\n",
       "                        <th id=\"T_c44c513e_029d_11ea_98a3_848f69af4391level0_row8\" class=\"row_heading level0 row8\" >9</th>\n",
       "                        <td id=\"T_c44c513e_029d_11ea_98a3_848f69af4391row8_col0\" class=\"data row8 col0\" >emp_length</td>\n",
       "                        <td id=\"T_c44c513e_029d_11ea_98a3_848f69af4391row8_col1\" class=\"data row8 col1\" >-0.0166556</td>\n",
       "                        <td id=\"T_c44c513e_029d_11ea_98a3_848f69af4391row8_col2\" class=\"data row8 col2\" >Employment length in years. Possible values are between 0 and 10 where 0 means less than one year and 10 means ten or more years. </td>\n",
       "            </tr>\n",
       "            <tr>\n",
       "                        <th id=\"T_c44c513e_029d_11ea_98a3_848f69af4391level0_row9\" class=\"row_heading level0 row9\" >10</th>\n",
       "                        <td id=\"T_c44c513e_029d_11ea_98a3_848f69af4391row9_col0\" class=\"data row9 col0\" >home_ownership</td>\n",
       "                        <td id=\"T_c44c513e_029d_11ea_98a3_848f69af4391row9_col1\" class=\"data row9 col1\" >-0.0230991</td>\n",
       "                        <td id=\"T_c44c513e_029d_11ea_98a3_848f69af4391row9_col2\" class=\"data row9 col2\" >The home ownership status provided by the borrower during registration. Our values are: RENT, OWN, MORTGAGE, OTHER.</td>\n",
       "            </tr>\n",
       "            <tr>\n",
       "                        <th id=\"T_c44c513e_029d_11ea_98a3_848f69af4391level0_row10\" class=\"row_heading level0 row10\" >11</th>\n",
       "                        <td id=\"T_c44c513e_029d_11ea_98a3_848f69af4391row10_col0\" class=\"data row10 col0\" >annual_inc</td>\n",
       "                        <td id=\"T_c44c513e_029d_11ea_98a3_848f69af4391row10_col1\" class=\"data row10 col1\" >0.0408672</td>\n",
       "                        <td id=\"T_c44c513e_029d_11ea_98a3_848f69af4391row10_col2\" class=\"data row10 col2\" >The self-reported annual income provided by the borrower during registration.</td>\n",
       "            </tr>\n",
       "            <tr>\n",
       "                        <th id=\"T_c44c513e_029d_11ea_98a3_848f69af4391level0_row11\" class=\"row_heading level0 row11\" >12</th>\n",
       "                        <td id=\"T_c44c513e_029d_11ea_98a3_848f69af4391row11_col0\" class=\"data row11 col0\" >verification_status</td>\n",
       "                        <td id=\"T_c44c513e_029d_11ea_98a3_848f69af4391row11_col1\" class=\"data row11 col1\" >-0.0482624</td>\n",
       "                        <td id=\"T_c44c513e_029d_11ea_98a3_848f69af4391row11_col2\" class=\"data row11 col2\" >Indicates if income was verified by LC, not verified, or if the income source was verified</td>\n",
       "            </tr>\n",
       "            <tr>\n",
       "                        <th id=\"T_c44c513e_029d_11ea_98a3_848f69af4391level0_row12\" class=\"row_heading level0 row12\" >13</th>\n",
       "                        <td id=\"T_c44c513e_029d_11ea_98a3_848f69af4391row12_col0\" class=\"data row12 col0\" >issue_d</td>\n",
       "                        <td id=\"T_c44c513e_029d_11ea_98a3_848f69af4391row12_col1\" class=\"data row12 col1\" >-0.0154782</td>\n",
       "                        <td id=\"T_c44c513e_029d_11ea_98a3_848f69af4391row12_col2\" class=\"data row12 col2\" >The month which the loan was funded</td>\n",
       "            </tr>\n",
       "            <tr>\n",
       "                        <th id=\"T_c44c513e_029d_11ea_98a3_848f69af4391level0_row13\" class=\"row_heading level0 row13\" >14</th>\n",
       "                        <td id=\"T_c44c513e_029d_11ea_98a3_848f69af4391row13_col0\" class=\"data row13 col0\" >loan_status</td>\n",
       "                        <td id=\"T_c44c513e_029d_11ea_98a3_848f69af4391row13_col1\" class=\"data row13 col1\" >1</td>\n",
       "                        <td id=\"T_c44c513e_029d_11ea_98a3_848f69af4391row13_col2\" class=\"data row13 col2\" >Current status of the loan</td>\n",
       "            </tr>\n",
       "            <tr>\n",
       "                        <th id=\"T_c44c513e_029d_11ea_98a3_848f69af4391level0_row14\" class=\"row_heading level0 row14\" >15</th>\n",
       "                        <td id=\"T_c44c513e_029d_11ea_98a3_848f69af4391row14_col0\" class=\"data row14 col0\" >purpose</td>\n",
       "                        <td id=\"T_c44c513e_029d_11ea_98a3_848f69af4391row14_col1\" class=\"data row14 col1\" >-0.0418307</td>\n",
       "                        <td id=\"T_c44c513e_029d_11ea_98a3_848f69af4391row14_col2\" class=\"data row14 col2\" >A category provided by the borrower for the loan request. </td>\n",
       "            </tr>\n",
       "            <tr>\n",
       "                        <th id=\"T_c44c513e_029d_11ea_98a3_848f69af4391level0_row15\" class=\"row_heading level0 row15\" >16</th>\n",
       "                        <td id=\"T_c44c513e_029d_11ea_98a3_848f69af4391row15_col0\" class=\"data row15 col0\" >addr_state</td>\n",
       "                        <td id=\"T_c44c513e_029d_11ea_98a3_848f69af4391row15_col1\" class=\"data row15 col1\" >0.0239121</td>\n",
       "                        <td id=\"T_c44c513e_029d_11ea_98a3_848f69af4391row15_col2\" class=\"data row15 col2\" >The state provided by the borrower in the loan application</td>\n",
       "            </tr>\n",
       "            <tr>\n",
       "                        <th id=\"T_c44c513e_029d_11ea_98a3_848f69af4391level0_row16\" class=\"row_heading level0 row16\" >17</th>\n",
       "                        <td id=\"T_c44c513e_029d_11ea_98a3_848f69af4391row16_col0\" class=\"data row16 col0\" >dti</td>\n",
       "                        <td id=\"T_c44c513e_029d_11ea_98a3_848f69af4391row16_col1\" class=\"data row16 col1\" >-0.0450777</td>\n",
       "                        <td id=\"T_c44c513e_029d_11ea_98a3_848f69af4391row16_col2\" class=\"data row16 col2\" >A ratio calculated using the borrower’s total monthly debt payments on the total debt obligations, excluding mortgage and the requested LC loan, divided by the borrower’s self-reported monthly income.</td>\n",
       "            </tr>\n",
       "            <tr>\n",
       "                        <th id=\"T_c44c513e_029d_11ea_98a3_848f69af4391level0_row17\" class=\"row_heading level0 row17\" >18</th>\n",
       "                        <td id=\"T_c44c513e_029d_11ea_98a3_848f69af4391row17_col0\" class=\"data row17 col0\" >delinq_2yrs</td>\n",
       "                        <td id=\"T_c44c513e_029d_11ea_98a3_848f69af4391row17_col1\" class=\"data row17 col1\" >-0.0200958</td>\n",
       "                        <td id=\"T_c44c513e_029d_11ea_98a3_848f69af4391row17_col2\" class=\"data row17 col2\" >The number of 30+ days past-due incidences of delinquency in the borrower's credit file for the past 2 years</td>\n",
       "            </tr>\n",
       "            <tr>\n",
       "                        <th id=\"T_c44c513e_029d_11ea_98a3_848f69af4391level0_row18\" class=\"row_heading level0 row18\" >19</th>\n",
       "                        <td id=\"T_c44c513e_029d_11ea_98a3_848f69af4391row18_col0\" class=\"data row18 col0\" >earliest_cr_line</td>\n",
       "                        <td id=\"T_c44c513e_029d_11ea_98a3_848f69af4391row18_col1\" class=\"data row18 col1\" >0.017154</td>\n",
       "                        <td id=\"T_c44c513e_029d_11ea_98a3_848f69af4391row18_col2\" class=\"data row18 col2\" >The month the borrower's earliest reported credit line was opened</td>\n",
       "            </tr>\n",
       "            <tr>\n",
       "                        <th id=\"T_c44c513e_029d_11ea_98a3_848f69af4391level0_row19\" class=\"row_heading level0 row19\" >20</th>\n",
       "                        <td id=\"T_c44c513e_029d_11ea_98a3_848f69af4391row19_col0\" class=\"data row19 col0\" >inq_last_6mths</td>\n",
       "                        <td id=\"T_c44c513e_029d_11ea_98a3_848f69af4391row19_col1\" class=\"data row19 col1\" >-0.0718778</td>\n",
       "                        <td id=\"T_c44c513e_029d_11ea_98a3_848f69af4391row19_col2\" class=\"data row19 col2\" >The number of inquiries in past 6 months (excluding auto and mortgage inquiries)</td>\n",
       "            </tr>\n",
       "            <tr>\n",
       "                        <th id=\"T_c44c513e_029d_11ea_98a3_848f69af4391level0_row20\" class=\"row_heading level0 row20\" >21</th>\n",
       "                        <td id=\"T_c44c513e_029d_11ea_98a3_848f69af4391row20_col0\" class=\"data row20 col0\" >open_acc</td>\n",
       "                        <td id=\"T_c44c513e_029d_11ea_98a3_848f69af4391row20_col1\" class=\"data row20 col1\" >0.00914023</td>\n",
       "                        <td id=\"T_c44c513e_029d_11ea_98a3_848f69af4391row20_col2\" class=\"data row20 col2\" >The number of open credit lines in the borrower's credit file.</td>\n",
       "            </tr>\n",
       "            <tr>\n",
       "                        <th id=\"T_c44c513e_029d_11ea_98a3_848f69af4391level0_row21\" class=\"row_heading level0 row21\" >22</th>\n",
       "                        <td id=\"T_c44c513e_029d_11ea_98a3_848f69af4391row21_col0\" class=\"data row21 col0\" >pub_rec</td>\n",
       "                        <td id=\"T_c44c513e_029d_11ea_98a3_848f69af4391row21_col1\" class=\"data row21 col1\" >-0.051001</td>\n",
       "                        <td id=\"T_c44c513e_029d_11ea_98a3_848f69af4391row21_col2\" class=\"data row21 col2\" >Number of derogatory public records</td>\n",
       "            </tr>\n",
       "            <tr>\n",
       "                        <th id=\"T_c44c513e_029d_11ea_98a3_848f69af4391level0_row22\" class=\"row_heading level0 row22\" >23</th>\n",
       "                        <td id=\"T_c44c513e_029d_11ea_98a3_848f69af4391row22_col0\" class=\"data row22 col0\" >revol_bal</td>\n",
       "                        <td id=\"T_c44c513e_029d_11ea_98a3_848f69af4391row22_col1\" class=\"data row22 col1\" >-0.00585386</td>\n",
       "                        <td id=\"T_c44c513e_029d_11ea_98a3_848f69af4391row22_col2\" class=\"data row22 col2\" >Total credit revolving balance</td>\n",
       "            </tr>\n",
       "            <tr>\n",
       "                        <th id=\"T_c44c513e_029d_11ea_98a3_848f69af4391level0_row23\" class=\"row_heading level0 row23\" >24</th>\n",
       "                        <td id=\"T_c44c513e_029d_11ea_98a3_848f69af4391row23_col0\" class=\"data row23 col0\" >total_acc</td>\n",
       "                        <td id=\"T_c44c513e_029d_11ea_98a3_848f69af4391row23_col1\" class=\"data row23 col1\" >0.0226076</td>\n",
       "                        <td id=\"T_c44c513e_029d_11ea_98a3_848f69af4391row23_col2\" class=\"data row23 col2\" >The total number of credit lines currently in the borrower's credit file</td>\n",
       "            </tr>\n",
       "            <tr>\n",
       "                        <th id=\"T_c44c513e_029d_11ea_98a3_848f69af4391level0_row24\" class=\"row_heading level0 row24\" >25</th>\n",
       "                        <td id=\"T_c44c513e_029d_11ea_98a3_848f69af4391row24_col0\" class=\"data row24 col0\" >total_pymnt</td>\n",
       "                        <td id=\"T_c44c513e_029d_11ea_98a3_848f69af4391row24_col1\" class=\"data row24 col1\" >0.235898</td>\n",
       "                        <td id=\"T_c44c513e_029d_11ea_98a3_848f69af4391row24_col2\" class=\"data row24 col2\" >Payments received to date for total amount funded</td>\n",
       "            </tr>\n",
       "            <tr>\n",
       "                        <th id=\"T_c44c513e_029d_11ea_98a3_848f69af4391level0_row25\" class=\"row_heading level0 row25\" >26</th>\n",
       "                        <td id=\"T_c44c513e_029d_11ea_98a3_848f69af4391row25_col0\" class=\"data row25 col0\" >total_pymnt_inv</td>\n",
       "                        <td id=\"T_c44c513e_029d_11ea_98a3_848f69af4391row25_col1\" class=\"data row25 col1\" >0.232906</td>\n",
       "                        <td id=\"T_c44c513e_029d_11ea_98a3_848f69af4391row25_col2\" class=\"data row25 col2\" >Payments received to date for portion of total amount funded by investors</td>\n",
       "            </tr>\n",
       "            <tr>\n",
       "                        <th id=\"T_c44c513e_029d_11ea_98a3_848f69af4391level0_row26\" class=\"row_heading level0 row26\" >27</th>\n",
       "                        <td id=\"T_c44c513e_029d_11ea_98a3_848f69af4391row26_col0\" class=\"data row26 col0\" >total_rec_prncp</td>\n",
       "                        <td id=\"T_c44c513e_029d_11ea_98a3_848f69af4391row26_col1\" class=\"data row26 col1\" >0.334944</td>\n",
       "                        <td id=\"T_c44c513e_029d_11ea_98a3_848f69af4391row26_col2\" class=\"data row26 col2\" >Principal received to date</td>\n",
       "            </tr>\n",
       "            <tr>\n",
       "                        <th id=\"T_c44c513e_029d_11ea_98a3_848f69af4391level0_row27\" class=\"row_heading level0 row27\" >28</th>\n",
       "                        <td id=\"T_c44c513e_029d_11ea_98a3_848f69af4391row27_col0\" class=\"data row27 col0\" >total_rec_int</td>\n",
       "                        <td id=\"T_c44c513e_029d_11ea_98a3_848f69af4391row27_col1\" class=\"data row27 col1\" >-0.0130083</td>\n",
       "                        <td id=\"T_c44c513e_029d_11ea_98a3_848f69af4391row27_col2\" class=\"data row27 col2\" >Interest received to date</td>\n",
       "            </tr>\n",
       "            <tr>\n",
       "                        <th id=\"T_c44c513e_029d_11ea_98a3_848f69af4391level0_row28\" class=\"row_heading level0 row28\" >29</th>\n",
       "                        <td id=\"T_c44c513e_029d_11ea_98a3_848f69af4391row28_col0\" class=\"data row28 col0\" >total_rec_late_fee</td>\n",
       "                        <td id=\"T_c44c513e_029d_11ea_98a3_848f69af4391row28_col1\" class=\"data row28 col1\" >-0.165115</td>\n",
       "                        <td id=\"T_c44c513e_029d_11ea_98a3_848f69af4391row28_col2\" class=\"data row28 col2\" >Late fees received to date</td>\n",
       "            </tr>\n",
       "            <tr>\n",
       "                        <th id=\"T_c44c513e_029d_11ea_98a3_848f69af4391level0_row29\" class=\"row_heading level0 row29\" >30</th>\n",
       "                        <td id=\"T_c44c513e_029d_11ea_98a3_848f69af4391row29_col0\" class=\"data row29 col0\" >recoveries</td>\n",
       "                        <td id=\"T_c44c513e_029d_11ea_98a3_848f69af4391row29_col1\" class=\"data row29 col1\" >-0.339562</td>\n",
       "                        <td id=\"T_c44c513e_029d_11ea_98a3_848f69af4391row29_col2\" class=\"data row29 col2\" >post charge off gross recovery</td>\n",
       "            </tr>\n",
       "            <tr>\n",
       "                        <th id=\"T_c44c513e_029d_11ea_98a3_848f69af4391level0_row30\" class=\"row_heading level0 row30\" >31</th>\n",
       "                        <td id=\"T_c44c513e_029d_11ea_98a3_848f69af4391row30_col0\" class=\"data row30 col0\" >collection_recovery_fee</td>\n",
       "                        <td id=\"T_c44c513e_029d_11ea_98a3_848f69af4391row30_col1\" class=\"data row30 col1\" >-0.204914</td>\n",
       "                        <td id=\"T_c44c513e_029d_11ea_98a3_848f69af4391row30_col2\" class=\"data row30 col2\" >post charge off collection fee</td>\n",
       "            </tr>\n",
       "            <tr>\n",
       "                        <th id=\"T_c44c513e_029d_11ea_98a3_848f69af4391level0_row31\" class=\"row_heading level0 row31\" >32</th>\n",
       "                        <td id=\"T_c44c513e_029d_11ea_98a3_848f69af4391row31_col0\" class=\"data row31 col0\" >last_pymnt_amnt</td>\n",
       "                        <td id=\"T_c44c513e_029d_11ea_98a3_848f69af4391row31_col1\" class=\"data row31 col1\" >0.222524</td>\n",
       "                        <td id=\"T_c44c513e_029d_11ea_98a3_848f69af4391row31_col2\" class=\"data row31 col2\" >Last total payment amount received</td>\n",
       "            </tr>\n",
       "            <tr>\n",
       "                        <th id=\"T_c44c513e_029d_11ea_98a3_848f69af4391level0_row32\" class=\"row_heading level0 row32\" >33</th>\n",
       "                        <td id=\"T_c44c513e_029d_11ea_98a3_848f69af4391row32_col0\" class=\"data row32 col0\" >pub_rec_bankruptcies</td>\n",
       "                        <td id=\"T_c44c513e_029d_11ea_98a3_848f69af4391row32_col1\" class=\"data row32 col1\" >-0.0469894</td>\n",
       "                        <td id=\"T_c44c513e_029d_11ea_98a3_848f69af4391row32_col2\" class=\"data row32 col2\" >Number of public record bankruptcies</td>\n",
       "            </tr>\n",
       "    </tbody></table>"
      ],
      "text/plain": [
       "<pandas.io.formats.style.Styler at 0x218b40b98c8>"
      ]
     },
     "execution_count": 35,
     "metadata": {},
     "output_type": "execute_result"
    }
   ],
   "source": [
    "y=data.loan_status.astype('category').cat.codes\n",
    "s=[[]]\n",
    "for i in data.columns:\n",
    "    about=desc[desc['LoanStatNew']==i]['Description'].iloc[0]\n",
    "    if data[i].describe().dtype==object:\n",
    "        data[i]=data[i].astype('category').cat.codes\n",
    "    res=pd.concat([data[i],y],axis=1)\n",
    "    s.append([i,res.corr().min()[0],about])\n",
    "\n",
    "    \n",
    "corel=pd.DataFrame(s)\n",
    "corel=corel.dropna()\n",
    "corel.columns=['variable','correlation with loan_status','description']\n",
    "corel.sort_values(by='correlation with loan_status')\n",
    "corel.style.background_gradient()"
   ]
  },
  {
   "cell_type": "code",
   "execution_count": 36,
   "metadata": {},
   "outputs": [
    {
     "data": {
      "image/png": "[encoded data removed]",
      "text/plain": [
       "<Figure size 432x288 with 2 Axes>"
      ]
     },
     "metadata": {
      "needs_background": "light"
     },
     "output_type": "display_data"
    }
   ],
   "source": [
    "sns.heatmap(data.corr())\n",
    "plt.show()"
   ]
  },
  {
   "cell_type": "code",
   "execution_count": 47,
   "metadata": {},
   "outputs": [
    {
     "data": {
      "text/html": [
       "<div>\n",
       "<style scoped>\n",
       "    .dataframe tbody tr th:only-of-type {\n",
       "        vertical-align: middle;\n",
       "    }\n",
       "\n",
       "    .dataframe tbody tr th {\n",
       "        vertical-align: top;\n",
       "    }\n",
       "\n",
       "    .dataframe thead th {\n",
       "        text-align: right;\n",
       "    }\n",
       "</style>\n",
       "<table border=\"1\" class=\"dataframe\">\n",
       "  <thead>\n",
       "    <tr style=\"text-align: right;\">\n",
       "      <th></th>\n",
       "      <th>loan_amnt</th>\n",
       "      <th>funded_amnt</th>\n",
       "      <th>funded_amnt_inv</th>\n",
       "      <th>term</th>\n",
       "      <th>int_rate</th>\n",
       "      <th>installment</th>\n",
       "      <th>grade</th>\n",
       "      <th>sub_grade</th>\n",
       "      <th>emp_length</th>\n",
       "      <th>home_ownership</th>\n",
       "      <th>...</th>\n",
       "      <th>total_acc</th>\n",
       "      <th>total_pymnt</th>\n",
       "      <th>total_pymnt_inv</th>\n",
       "      <th>total_rec_prncp</th>\n",
       "      <th>total_rec_int</th>\n",
       "      <th>total_rec_late_fee</th>\n",
       "      <th>recoveries</th>\n",
       "      <th>collection_recovery_fee</th>\n",
       "      <th>last_pymnt_amnt</th>\n",
       "      <th>pub_rec_bankruptcies</th>\n",
       "    </tr>\n",
       "  </thead>\n",
       "  <tbody>\n",
       "    <tr>\n",
       "      <td>0</td>\n",
       "      <td>5000</td>\n",
       "      <td>5000</td>\n",
       "      <td>4975.0</td>\n",
       "      <td>36</td>\n",
       "      <td>10</td>\n",
       "      <td>162.87</td>\n",
       "      <td>B</td>\n",
       "      <td>B2</td>\n",
       "      <td>10.0</td>\n",
       "      <td>RENT</td>\n",
       "      <td>...</td>\n",
       "      <td>9</td>\n",
       "      <td>5863.155187</td>\n",
       "      <td>5833.84</td>\n",
       "      <td>5000.00</td>\n",
       "      <td>863.16</td>\n",
       "      <td>0.00</td>\n",
       "      <td>0.00</td>\n",
       "      <td>0.00</td>\n",
       "      <td>171.62</td>\n",
       "      <td>0.0</td>\n",
       "    </tr>\n",
       "    <tr>\n",
       "      <td>1</td>\n",
       "      <td>2500</td>\n",
       "      <td>2500</td>\n",
       "      <td>2500.0</td>\n",
       "      <td>60</td>\n",
       "      <td>15</td>\n",
       "      <td>59.83</td>\n",
       "      <td>C</td>\n",
       "      <td>C4</td>\n",
       "      <td>1.0</td>\n",
       "      <td>RENT</td>\n",
       "      <td>...</td>\n",
       "      <td>4</td>\n",
       "      <td>1008.710000</td>\n",
       "      <td>1008.71</td>\n",
       "      <td>456.46</td>\n",
       "      <td>435.17</td>\n",
       "      <td>0.00</td>\n",
       "      <td>117.08</td>\n",
       "      <td>1.11</td>\n",
       "      <td>119.66</td>\n",
       "      <td>0.0</td>\n",
       "    </tr>\n",
       "    <tr>\n",
       "      <td>2</td>\n",
       "      <td>2400</td>\n",
       "      <td>2400</td>\n",
       "      <td>2400.0</td>\n",
       "      <td>36</td>\n",
       "      <td>15</td>\n",
       "      <td>84.33</td>\n",
       "      <td>C</td>\n",
       "      <td>C5</td>\n",
       "      <td>10.0</td>\n",
       "      <td>RENT</td>\n",
       "      <td>...</td>\n",
       "      <td>10</td>\n",
       "      <td>3005.666844</td>\n",
       "      <td>3005.67</td>\n",
       "      <td>2400.00</td>\n",
       "      <td>605.67</td>\n",
       "      <td>0.00</td>\n",
       "      <td>0.00</td>\n",
       "      <td>0.00</td>\n",
       "      <td>649.91</td>\n",
       "      <td>0.0</td>\n",
       "    </tr>\n",
       "    <tr>\n",
       "      <td>3</td>\n",
       "      <td>10000</td>\n",
       "      <td>10000</td>\n",
       "      <td>10000.0</td>\n",
       "      <td>36</td>\n",
       "      <td>13</td>\n",
       "      <td>339.31</td>\n",
       "      <td>C</td>\n",
       "      <td>C1</td>\n",
       "      <td>10.0</td>\n",
       "      <td>RENT</td>\n",
       "      <td>...</td>\n",
       "      <td>37</td>\n",
       "      <td>12231.890000</td>\n",
       "      <td>12231.89</td>\n",
       "      <td>10000.00</td>\n",
       "      <td>2214.92</td>\n",
       "      <td>16.97</td>\n",
       "      <td>0.00</td>\n",
       "      <td>0.00</td>\n",
       "      <td>357.48</td>\n",
       "      <td>0.0</td>\n",
       "    </tr>\n",
       "    <tr>\n",
       "      <td>5</td>\n",
       "      <td>5000</td>\n",
       "      <td>5000</td>\n",
       "      <td>5000.0</td>\n",
       "      <td>36</td>\n",
       "      <td>7</td>\n",
       "      <td>156.46</td>\n",
       "      <td>A</td>\n",
       "      <td>A4</td>\n",
       "      <td>3.0</td>\n",
       "      <td>RENT</td>\n",
       "      <td>...</td>\n",
       "      <td>12</td>\n",
       "      <td>5632.210000</td>\n",
       "      <td>5632.21</td>\n",
       "      <td>5000.00</td>\n",
       "      <td>632.21</td>\n",
       "      <td>0.00</td>\n",
       "      <td>0.00</td>\n",
       "      <td>0.00</td>\n",
       "      <td>161.03</td>\n",
       "      <td>0.0</td>\n",
       "    </tr>\n",
       "  </tbody>\n",
       "</table>\n",
       "<p>5 rows × 33 columns</p>\n",
       "</div>"
      ],
      "text/plain": [
       "   loan_amnt  funded_amnt  funded_amnt_inv term int_rate  installment grade  \\\n",
       "0       5000         5000           4975.0   36       10       162.87     B   \n",
       "1       2500         2500           2500.0   60       15        59.83     C   \n",
       "2       2400         2400           2400.0   36       15        84.33     C   \n",
       "3      10000        10000          10000.0   36       13       339.31     C   \n",
       "5       5000         5000           5000.0   36        7       156.46     A   \n",
       "\n",
       "  sub_grade  emp_length home_ownership  ...  total_acc   total_pymnt  \\\n",
       "0        B2        10.0           RENT  ...          9   5863.155187   \n",
       "1        C4         1.0           RENT  ...          4   1008.710000   \n",
       "2        C5        10.0           RENT  ...         10   3005.666844   \n",
       "3        C1        10.0           RENT  ...         37  12231.890000   \n",
       "5        A4         3.0           RENT  ...         12   5632.210000   \n",
       "\n",
       "  total_pymnt_inv total_rec_prncp total_rec_int total_rec_late_fee  \\\n",
       "0         5833.84         5000.00        863.16               0.00   \n",
       "1         1008.71          456.46        435.17               0.00   \n",
       "2         3005.67         2400.00        605.67               0.00   \n",
       "3        12231.89        10000.00       2214.92              16.97   \n",
       "5         5632.21         5000.00        632.21               0.00   \n",
       "\n",
       "   recoveries  collection_recovery_fee last_pymnt_amnt  pub_rec_bankruptcies  \n",
       "0        0.00                     0.00          171.62                   0.0  \n",
       "1      117.08                     1.11          119.66                   0.0  \n",
       "2        0.00                     0.00          649.91                   0.0  \n",
       "3        0.00                     0.00          357.48                   0.0  \n",
       "5        0.00                     0.00          161.03                   0.0  \n",
       "\n",
       "[5 rows x 33 columns]"
      ]
     },
     "execution_count": 47,
     "metadata": {},
     "output_type": "execute_result"
    }
   ],
   "source": [
    "loan.head()"
   ]
  },
  {
   "cell_type": "code",
   "execution_count": 48,
   "metadata": {},
   "outputs": [
    {
     "name": "stdout",
     "output_type": "stream",
     "text": [
      "<class 'pandas.core.frame.DataFrame'>\n",
      "Int64Index: 38577 entries, 0 to 39716\n",
      "Data columns (total 33 columns):\n",
      "loan_amnt                  38577 non-null int64\n",
      "funded_amnt                38577 non-null int64\n",
      "funded_amnt_inv            38577 non-null float64\n",
      "term                       38577 non-null object\n",
      "int_rate                   38577 non-null object\n",
      "installment                38577 non-null float64\n",
      "grade                      38577 non-null object\n",
      "sub_grade                  38577 non-null object\n",
      "emp_length                 37544 non-null float64\n",
      "home_ownership             38577 non-null object\n",
      "annual_inc                 38577 non-null float64\n",
      "verification_status        38577 non-null object\n",
      "issue_d                    38577 non-null object\n",
      "loan_status                38577 non-null object\n",
      "purpose                    38577 non-null object\n",
      "addr_state                 38577 non-null object\n",
      "dti                        38577 non-null float64\n",
      "delinq_2yrs                38577 non-null int64\n",
      "earliest_cr_line           38577 non-null object\n",
      "inq_last_6mths             38577 non-null int64\n",
      "open_acc                   38577 non-null int64\n",
      "pub_rec                    38577 non-null int64\n",
      "revol_bal                  38577 non-null int64\n",
      "total_acc                  38577 non-null int64\n",
      "total_pymnt                38577 non-null float64\n",
      "total_pymnt_inv            38577 non-null float64\n",
      "total_rec_prncp            38577 non-null float64\n",
      "total_rec_int              38577 non-null float64\n",
      "total_rec_late_fee         38577 non-null float64\n",
      "recoveries                 38577 non-null float64\n",
      "collection_recovery_fee    38577 non-null float64\n",
      "last_pymnt_amnt            38577 non-null float64\n",
      "pub_rec_bankruptcies       38577 non-null float64\n",
      "dtypes: float64(14), int64(8), object(11)\n",
      "memory usage: 10.0+ MB\n"
     ]
    }
   ],
   "source": [
    "loan.info()"
   ]
  },
  {
   "cell_type": "code",
   "execution_count": 53,
   "metadata": {},
   "outputs": [],
   "source": [
    "for i in data.columns:\n",
    "    data[i]=data[i].apply(lambda x:float(x))"
   ]
  },
  {
   "cell_type": "code",
   "execution_count": 69,
   "metadata": {},
   "outputs": [],
   "source": [
    "y=data.loan_status\n",
    "x=data.drop(['loan_status','emp_length'],axis=1)\n"
   ]
  },
  {
   "cell_type": "code",
   "execution_count": 70,
   "metadata": {},
   "outputs": [
    {
     "name": "stdout",
     "output_type": "stream",
     "text": [
      "                                 OLS Regression Results                                \n",
      "=======================================================================================\n",
      "Dep. Variable:            loan_status   R-squared (uncentered):                   0.916\n",
      "Model:                            OLS   Adj. R-squared (uncentered):              0.916\n",
      "Method:                 Least Squares   F-statistic:                          1.356e+04\n",
      "Date:                Sat, 09 Nov 2019   Prob (F-statistic):                        0.00\n",
      "Time:                        09:19:15   Log-Likelihood:                         -3917.7\n",
      "No. Observations:               38577   AIC:                                      7897.\n",
      "Df Residuals:                   38546   BIC:                                      8163.\n",
      "Df Model:                          31                                                  \n",
      "Covariance Type:            nonrobust                                                  \n",
      "===========================================================================================\n",
      "                              coef    std err          t      P>|t|      [0.025      0.975]\n",
      "-------------------------------------------------------------------------------------------\n",
      "loan_amnt               -3.344e-06   9.99e-07     -3.348      0.001    -5.3e-06   -1.39e-06\n",
      "funded_amnt             -1.207e-05   2.53e-06     -4.771      0.000    -1.7e-05   -7.11e-06\n",
      "funded_amnt_inv         -1.342e-05   1.83e-06     -7.321      0.000    -1.7e-05   -9.82e-06\n",
      "term                       -0.1112      0.007    -15.478      0.000      -0.125      -0.097\n",
      "int_rate                    0.0105      0.000     50.655      0.000       0.010       0.011\n",
      "installment                -0.0011   4.84e-05    -23.284      0.000      -0.001      -0.001\n",
      "grade                      -0.1023      0.005    -21.253      0.000      -0.112      -0.093\n",
      "sub_grade                   0.0345      0.001     35.319      0.000       0.033       0.036\n",
      "home_ownership              0.0267      0.001     36.522      0.000       0.025       0.028\n",
      "annual_inc               4.485e-07   2.33e-08     19.274      0.000    4.03e-07    4.94e-07\n",
      "verification_status         0.0032      0.002      1.801      0.072      -0.000       0.007\n",
      "issue_d                     0.0119      0.000     32.004      0.000       0.011       0.013\n",
      "purpose                     0.0108      0.000     27.452      0.000       0.010       0.012\n",
      "addr_state                  0.0027   8.98e-05     29.750      0.000       0.002       0.003\n",
      "dti                         0.0066      0.000     30.206      0.000       0.006       0.007\n",
      "delinq_2yrs                 0.0111      0.003      3.880      0.000       0.006       0.017\n",
      "earliest_cr_line            0.0127      0.000     34.033      0.000       0.012       0.013\n",
      "inq_last_6mths              0.0070      0.001      5.343      0.000       0.004       0.010\n",
      "open_acc                    0.0059      0.000     13.519      0.000       0.005       0.007\n",
      "pub_rec                     0.0011      0.011      0.104      0.918      -0.020       0.022\n",
      "revol_bal               -4.366e-07   9.96e-08     -4.383      0.000   -6.32e-07   -2.41e-07\n",
      "total_acc                   0.0027      0.000     15.323      0.000       0.002       0.003\n",
      "total_pymnt                -0.5737      0.510     -1.124      0.261      -1.574       0.427\n",
      "total_pymnt_inv          1.295e-05   1.73e-06      7.493      0.000    9.56e-06    1.63e-05\n",
      "total_rec_prncp             0.5738      0.510      1.124      0.261      -0.427       1.574\n",
      "total_rec_int               0.5736      0.510      1.124      0.261      -0.427       1.574\n",
      "total_rec_late_fee          0.5712      0.510      1.119      0.263      -0.429       1.572\n",
      "recoveries                  0.5737      0.510      1.124      0.261      -0.427       1.574\n",
      "collection_recovery_fee -4.343e-05   1.53e-05     -2.837      0.005   -7.34e-05   -1.34e-05\n",
      "last_pymnt_amnt          -9.12e-06   4.36e-07    -20.912      0.000   -9.98e-06   -8.27e-06\n",
      "pub_rec_bankruptcies        0.0300      0.012      2.403      0.016       0.006       0.054\n",
      "==============================================================================\n",
      "Omnibus:                     6448.994   Durbin-Watson:                   1.910\n",
      "Prob(Omnibus):                  0.000   Jarque-Bera (JB):            13947.410\n",
      "Skew:                          -0.988   Prob(JB):                         0.00\n",
      "Kurtosis:                       5.185   Cond. No.                     8.19e+07\n",
      "==============================================================================\n",
      "\n",
      "Warnings:\n",
      "[1] Standard Errors assume that the covariance matrix of the errors is correctly specified.\n",
      "[2] The condition number is large, 8.19e+07. This might indicate that there are\n",
      "strong multicollinearity or other numerical problems.\n"
     ]
    }
   ],
   "source": [
    "import statsmodels.api as sm\n",
    "model = sm.OLS(y, x)\n",
    "results = model.fit()\n",
    "print(results.summary())"
   ]
  },
  {
   "cell_type": "code",
   "execution_count": 74,
   "metadata": {},
   "outputs": [
    {
     "data": {
      "text/plain": [
       "<matplotlib.axes._subplots.AxesSubplot at 0x218bd917408>"
      ]
     },
     "execution_count": 74,
     "metadata": {},
     "output_type": "execute_result"
    },
    {
     "data": {
      "image/png": "[encoded data removed]",
      "text/plain": [
       "<Figure size 864x864 with 2 Axes>"
      ]
     },
     "metadata": {
      "needs_background": "light"
     },
     "output_type": "display_data"
    }
   ],
   "source": [
    "plt.figure(figsize=(12,12))\n",
    "cont_var= ['loan_amnt', 'int_rate',\n",
    "       'emp_length', 'annual_inc',\n",
    "       'dti', 'delinq_2yrs', 'earliest_cr_line',\n",
    "       'inq_last_6mths', 'open_acc', 'pub_rec', 'revol_bal',\n",
    "       'total_acc', 'last_pymnt_amnt', \n",
    "       'pub_rec_bankruptcies']\n",
    "corr = loan[cont_var].corr()\n",
    "sns.heatmap(corr, annot=True, center=0.5)"
   ]
  }
 ],
 "metadata": {
  "anaconda-cloud": {},
  "kernelspec": {
   "display_name": "Python 3",
   "language": "python",
   "name": "python3"
  },
  "language_info": {
   "codemirror_mode": {
    "name": "ipython",
    "version": 3
   },
   "file_extension": ".py",
   "mimetype": "text/x-python",
   "name": "python",
   "nbconvert_exporter": "python",
   "pygments_lexer": "ipython3",
   "version": "3.7.4"
  }
 },
 "nbformat": 4,
 "nbformat_minor": 1
}
