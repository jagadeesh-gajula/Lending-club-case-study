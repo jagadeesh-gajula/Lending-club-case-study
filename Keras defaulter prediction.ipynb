{
 "cells": [
  {
   "cell_type": "code",
   "execution_count": 1,
   "metadata": {},
   "outputs": [],
   "source": [
    "import pandas as pd\n",
    "data=pd.read_csv('cleaned.csv')\n",
    "\n",
    "y=data.loan_status\n",
    "x=data.drop('loan_status',axis=1)"
   ]
  },
  {
   "cell_type": "code",
   "execution_count": 2,
   "metadata": {},
   "outputs": [
    {
     "name": "stdout",
     "output_type": "stream",
     "text": [
      "<class 'pandas.core.frame.DataFrame'>\n",
      "RangeIndex: 38577 entries, 0 to 38576\n",
      "Data columns (total 33 columns):\n",
      "loan_amnt                  38577 non-null int64\n",
      "funded_amnt                38577 non-null int64\n",
      "funded_amnt_inv            38577 non-null float64\n",
      "term                       38577 non-null int64\n",
      "int_rate                   38577 non-null int64\n",
      "installment                38577 non-null float64\n",
      "grade                      38577 non-null int64\n",
      "sub_grade                  38577 non-null int64\n",
      "emp_length                 38577 non-null int64\n",
      "home_ownership             38577 non-null int64\n",
      "annual_inc                 38577 non-null float64\n",
      "verification_status        38577 non-null int64\n",
      "issue_d                    38577 non-null int64\n",
      "purpose                    38577 non-null int64\n",
      "addr_state                 38577 non-null int64\n",
      "dti                        38577 non-null float64\n",
      "delinq_2yrs                38577 non-null int64\n",
      "earliest_cr_line           38577 non-null int64\n",
      "inq_last_6mths             38577 non-null int64\n",
      "open_acc                   38577 non-null int64\n",
      "pub_rec                    38577 non-null int64\n",
      "revol_bal                  38577 non-null int64\n",
      "total_acc                  38577 non-null int64\n",
      "out_prncp_inv              38577 non-null float64\n",
      "total_pymnt                38577 non-null float64\n",
      "total_pymnt_inv            38577 non-null float64\n",
      "total_rec_prncp            38577 non-null float64\n",
      "total_rec_int              38577 non-null float64\n",
      "total_rec_late_fee         38577 non-null float64\n",
      "recoveries                 38577 non-null float64\n",
      "collection_recovery_fee    38577 non-null float64\n",
      "last_pymnt_amnt            38577 non-null float64\n",
      "pub_rec_bankruptcies       38577 non-null float64\n",
      "dtypes: float64(14), int64(19)\n",
      "memory usage: 9.7 MB\n"
     ]
    }
   ],
   "source": [
    "x.info()"
   ]
  },
  {
   "cell_type": "code",
   "execution_count": 15,
   "metadata": {},
   "outputs": [
    {
     "name": "stdout",
     "output_type": "stream",
     "text": [
      "WARNING:tensorflow:The `nb_epoch` argument in `fit` has been renamed `epochs`.\n",
      "WARNING:tensorflow:Falling back from v2 loop because of error: Failed to find data adapter that can handle input: <class 'pandas.core.frame.DataFrame'>, <class 'NoneType'>\n",
      "Train on 38577 samples\n",
      "Epoch 1/10\n",
      "38577/38577 [==============================] - 2s 41us/sample - loss: 2.4117 - accuracy: 0.8425\n",
      "Epoch 2/10\n",
      "38577/38577 [==============================] - 1s 23us/sample - loss: 2.2415 - accuracy: 0.8538\n",
      "Epoch 3/10\n",
      "38577/38577 [==============================] - 1s 27us/sample - loss: 2.2366 - accuracy: 0.8541\n",
      "Epoch 4/10\n",
      "38577/38577 [==============================] - 1s 24us/sample - loss: 2.2366 - accuracy: 0.8541\n",
      "Epoch 5/10\n",
      "38577/38577 [==============================] - 1s 25us/sample - loss: 2.2366 - accuracy: 0.8541\n",
      "Epoch 6/10\n",
      "38577/38577 [==============================] - 1s 27us/sample - loss: 2.2366 - accuracy: 0.8541\n",
      "Epoch 7/10\n",
      "38577/38577 [==============================] - 1s 34us/sample - loss: 2.2366 - accuracy: 0.8541\n",
      "Epoch 8/10\n",
      "38577/38577 [==============================] - 1s 33us/sample - loss: 2.2366 - accuracy: 0.8541\n",
      "Epoch 9/10\n",
      "38577/38577 [==============================] - 1s 31us/sample - loss: 2.2366 - accuracy: 0.8541\n",
      "Epoch 10/10\n",
      "38577/38577 [==============================] - 1s 28us/sample - loss: 2.2366 - accuracy: 0.8541\n"
     ]
    }
   ],
   "source": [
    "from tensorflow.keras.models import Sequential\n",
    "from tensorflow.keras.layers import Dense\n",
    "model=Sequential()\n",
    "model.add(Dense(30,input_dim=x.shape[1],activation='relu'))\n",
    "model.add(Dense(30,activation='relu'))\n",
    "model.add(Dense(25,activation=\"relu\"))\n",
    "model.add(Dense(12,activation='relu'))\n",
    "model.add(Dense(5,activation='relu'))\n",
    "model.add(Dense(1,activation='sigmoid'))\n",
    "\n",
    "y=data.loan_status\n",
    "x=data.drop('loan_status',axis=1)\n",
    "\n",
    "model.compile(loss='binary_crossentropy',optimizer='adam',metrics=['accuracy'])\n",
    "model.fit(x,y,nb_epoch=10,batch_size=256)\n",
    "model.save('model.h5')"
   ]
  }
 ],
 "metadata": {
  "anaconda-cloud": {},
  "kernelspec": {
   "display_name": "Python 3",
   "language": "python",
   "name": "python3"
  },
  "language_info": {
   "codemirror_mode": {
    "name": "ipython",
    "version": 3
   },
   "file_extension": ".py",
   "mimetype": "text/x-python",
   "name": "python",
   "nbconvert_exporter": "python",
   "pygments_lexer": "ipython3",
   "version": "3.7.4"
  }
 },
 "nbformat": 4,
 "nbformat_minor": 1
}
